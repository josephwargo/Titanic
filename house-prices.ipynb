{
 "cells": [
  {
   "cell_type": "markdown",
   "id": "0d63a823",
   "metadata": {
    "papermill": {
     "duration": 0.00737,
     "end_time": "2022-09-12T22:44:12.984211",
     "exception": false,
     "start_time": "2022-09-12T22:44:12.976841",
     "status": "completed"
    },
    "tags": []
   },
   "source": [
    "## Importing:"
   ]
  },
  {
   "cell_type": "code",
   "execution_count": 1,
   "id": "aab40f9a",
   "metadata": {
    "execution": {
     "iopub.execute_input": "2022-09-12T22:44:13.000752Z",
     "iopub.status.busy": "2022-09-12T22:44:12.999851Z",
     "iopub.status.idle": "2022-09-12T22:44:14.142720Z",
     "shell.execute_reply": "2022-09-12T22:44:14.140908Z"
    },
    "papermill": {
     "duration": 1.155916,
     "end_time": "2022-09-12T22:44:14.146804",
     "exception": false,
     "start_time": "2022-09-12T22:44:12.990888",
     "status": "completed"
    },
    "tags": []
   },
   "outputs": [
    {
     "name": "stdout",
     "output_type": "stream",
     "text": [
      "/kaggle/input/house-prices-advanced-regression-techniques/sample_submission.csv\n",
      "/kaggle/input/house-prices-advanced-regression-techniques/data_description.txt\n",
      "/kaggle/input/house-prices-advanced-regression-techniques/train.csv\n",
      "/kaggle/input/house-prices-advanced-regression-techniques/test.csv\n"
     ]
    }
   ],
   "source": [
    "import numpy as np # linear algebra\n",
    "import pandas as pd # data processing, CSV file I/O (e.g. pd.read_csv)\n",
    "import matplotlib.pyplot as plt #graphing\n",
    "import matplotlib.patches as mpatches #style\n",
    "import seaborn as sns #advanced graphing\n",
    "import scipy as sp #math stuff\n",
    "%matplotlib inline\n",
    "\n",
    "import os\n",
    "for dirname, _, filenames in os.walk('/kaggle/input'):\n",
    "    for filename in filenames:\n",
    "        print(os.path.join(dirname, filename))"
   ]
  },
  {
   "cell_type": "code",
   "execution_count": 2,
   "id": "759e725b",
   "metadata": {
    "execution": {
     "iopub.execute_input": "2022-09-12T22:44:14.162019Z",
     "iopub.status.busy": "2022-09-12T22:44:14.161376Z",
     "iopub.status.idle": "2022-09-12T22:44:14.262455Z",
     "shell.execute_reply": "2022-09-12T22:44:14.261218Z"
    },
    "papermill": {
     "duration": 0.111963,
     "end_time": "2022-09-12T22:44:14.265346",
     "exception": false,
     "start_time": "2022-09-12T22:44:14.153383",
     "status": "completed"
    },
    "tags": []
   },
   "outputs": [],
   "source": [
    "#importing csvs\n",
    "train = pd.read_csv('/kaggle/input/house-prices-advanced-regression-techniques/train.csv')\n",
    "test = pd.read_csv('/kaggle/input/house-prices-advanced-regression-techniques/test.csv')\n",
    "train['train_test'] = 1\n",
    "test['train_test'] = 0\n",
    "all_data = pd.concat([train,test])"
   ]
  },
  {
   "cell_type": "markdown",
   "id": "c276ac3e",
   "metadata": {
    "papermill": {
     "duration": 0.00613,
     "end_time": "2022-09-12T22:44:14.277958",
     "exception": false,
     "start_time": "2022-09-12T22:44:14.271828",
     "status": "completed"
    },
    "tags": []
   },
   "source": [
    "## Discovering:"
   ]
  },
  {
   "cell_type": "code",
   "execution_count": 3,
   "id": "e959549d",
   "metadata": {
    "execution": {
     "iopub.execute_input": "2022-09-12T22:44:14.292720Z",
     "iopub.status.busy": "2022-09-12T22:44:14.292248Z",
     "iopub.status.idle": "2022-09-12T22:44:14.325462Z",
     "shell.execute_reply": "2022-09-12T22:44:14.323937Z"
    },
    "papermill": {
     "duration": 0.043657,
     "end_time": "2022-09-12T22:44:14.328108",
     "exception": false,
     "start_time": "2022-09-12T22:44:14.284451",
     "status": "completed"
    },
    "tags": []
   },
   "outputs": [
    {
     "name": "stdout",
     "output_type": "stream",
     "text": [
      "<class 'pandas.core.frame.DataFrame'>\n",
      "Int64Index: 2919 entries, 0 to 1458\n",
      "Data columns (total 82 columns):\n",
      " #   Column         Non-Null Count  Dtype  \n",
      "---  ------         --------------  -----  \n",
      " 0   Id             2919 non-null   int64  \n",
      " 1   MSSubClass     2919 non-null   int64  \n",
      " 2   MSZoning       2915 non-null   object \n",
      " 3   LotFrontage    2433 non-null   float64\n",
      " 4   LotArea        2919 non-null   int64  \n",
      " 5   Street         2919 non-null   object \n",
      " 6   Alley          198 non-null    object \n",
      " 7   LotShape       2919 non-null   object \n",
      " 8   LandContour    2919 non-null   object \n",
      " 9   Utilities      2917 non-null   object \n",
      " 10  LotConfig      2919 non-null   object \n",
      " 11  LandSlope      2919 non-null   object \n",
      " 12  Neighborhood   2919 non-null   object \n",
      " 13  Condition1     2919 non-null   object \n",
      " 14  Condition2     2919 non-null   object \n",
      " 15  BldgType       2919 non-null   object \n",
      " 16  HouseStyle     2919 non-null   object \n",
      " 17  OverallQual    2919 non-null   int64  \n",
      " 18  OverallCond    2919 non-null   int64  \n",
      " 19  YearBuilt      2919 non-null   int64  \n",
      " 20  YearRemodAdd   2919 non-null   int64  \n",
      " 21  RoofStyle      2919 non-null   object \n",
      " 22  RoofMatl       2919 non-null   object \n",
      " 23  Exterior1st    2918 non-null   object \n",
      " 24  Exterior2nd    2918 non-null   object \n",
      " 25  MasVnrType     2895 non-null   object \n",
      " 26  MasVnrArea     2896 non-null   float64\n",
      " 27  ExterQual      2919 non-null   object \n",
      " 28  ExterCond      2919 non-null   object \n",
      " 29  Foundation     2919 non-null   object \n",
      " 30  BsmtQual       2838 non-null   object \n",
      " 31  BsmtCond       2837 non-null   object \n",
      " 32  BsmtExposure   2837 non-null   object \n",
      " 33  BsmtFinType1   2840 non-null   object \n",
      " 34  BsmtFinSF1     2918 non-null   float64\n",
      " 35  BsmtFinType2   2839 non-null   object \n",
      " 36  BsmtFinSF2     2918 non-null   float64\n",
      " 37  BsmtUnfSF      2918 non-null   float64\n",
      " 38  TotalBsmtSF    2918 non-null   float64\n",
      " 39  Heating        2919 non-null   object \n",
      " 40  HeatingQC      2919 non-null   object \n",
      " 41  CentralAir     2919 non-null   object \n",
      " 42  Electrical     2918 non-null   object \n",
      " 43  1stFlrSF       2919 non-null   int64  \n",
      " 44  2ndFlrSF       2919 non-null   int64  \n",
      " 45  LowQualFinSF   2919 non-null   int64  \n",
      " 46  GrLivArea      2919 non-null   int64  \n",
      " 47  BsmtFullBath   2917 non-null   float64\n",
      " 48  BsmtHalfBath   2917 non-null   float64\n",
      " 49  FullBath       2919 non-null   int64  \n",
      " 50  HalfBath       2919 non-null   int64  \n",
      " 51  BedroomAbvGr   2919 non-null   int64  \n",
      " 52  KitchenAbvGr   2919 non-null   int64  \n",
      " 53  KitchenQual    2918 non-null   object \n",
      " 54  TotRmsAbvGrd   2919 non-null   int64  \n",
      " 55  Functional     2917 non-null   object \n",
      " 56  Fireplaces     2919 non-null   int64  \n",
      " 57  FireplaceQu    1499 non-null   object \n",
      " 58  GarageType     2762 non-null   object \n",
      " 59  GarageYrBlt    2760 non-null   float64\n",
      " 60  GarageFinish   2760 non-null   object \n",
      " 61  GarageCars     2918 non-null   float64\n",
      " 62  GarageArea     2918 non-null   float64\n",
      " 63  GarageQual     2760 non-null   object \n",
      " 64  GarageCond     2760 non-null   object \n",
      " 65  PavedDrive     2919 non-null   object \n",
      " 66  WoodDeckSF     2919 non-null   int64  \n",
      " 67  OpenPorchSF    2919 non-null   int64  \n",
      " 68  EnclosedPorch  2919 non-null   int64  \n",
      " 69  3SsnPorch      2919 non-null   int64  \n",
      " 70  ScreenPorch    2919 non-null   int64  \n",
      " 71  PoolArea       2919 non-null   int64  \n",
      " 72  PoolQC         10 non-null     object \n",
      " 73  Fence          571 non-null    object \n",
      " 74  MiscFeature    105 non-null    object \n",
      " 75  MiscVal        2919 non-null   int64  \n",
      " 76  MoSold         2919 non-null   int64  \n",
      " 77  YrSold         2919 non-null   int64  \n",
      " 78  SaleType       2918 non-null   object \n",
      " 79  SaleCondition  2919 non-null   object \n",
      " 80  SalePrice      1460 non-null   float64\n",
      " 81  train_test     2919 non-null   int64  \n",
      "dtypes: float64(12), int64(27), object(43)\n",
      "memory usage: 1.8+ MB\n"
     ]
    }
   ],
   "source": [
    "#getting a general idea of variable types\n",
    "all_data.info()"
   ]
  },
  {
   "cell_type": "code",
   "execution_count": 4,
   "id": "f8cbba84",
   "metadata": {
    "execution": {
     "iopub.execute_input": "2022-09-12T22:44:14.344276Z",
     "iopub.status.busy": "2022-09-12T22:44:14.343204Z",
     "iopub.status.idle": "2022-09-12T22:44:14.471528Z",
     "shell.execute_reply": "2022-09-12T22:44:14.470230Z"
    },
    "papermill": {
     "duration": 0.139321,
     "end_time": "2022-09-12T22:44:14.474263",
     "exception": false,
     "start_time": "2022-09-12T22:44:14.334942",
     "status": "completed"
    },
    "tags": []
   },
   "outputs": [
    {
     "data": {
      "text/html": [
       "<div>\n",
       "<style scoped>\n",
       "    .dataframe tbody tr th:only-of-type {\n",
       "        vertical-align: middle;\n",
       "    }\n",
       "\n",
       "    .dataframe tbody tr th {\n",
       "        vertical-align: top;\n",
       "    }\n",
       "\n",
       "    .dataframe thead th {\n",
       "        text-align: right;\n",
       "    }\n",
       "</style>\n",
       "<table border=\"1\" class=\"dataframe\">\n",
       "  <thead>\n",
       "    <tr style=\"text-align: right;\">\n",
       "      <th></th>\n",
       "      <th>Id</th>\n",
       "      <th>MSSubClass</th>\n",
       "      <th>LotFrontage</th>\n",
       "      <th>LotArea</th>\n",
       "      <th>OverallQual</th>\n",
       "      <th>OverallCond</th>\n",
       "      <th>YearBuilt</th>\n",
       "      <th>YearRemodAdd</th>\n",
       "      <th>MasVnrArea</th>\n",
       "      <th>BsmtFinSF1</th>\n",
       "      <th>...</th>\n",
       "      <th>OpenPorchSF</th>\n",
       "      <th>EnclosedPorch</th>\n",
       "      <th>3SsnPorch</th>\n",
       "      <th>ScreenPorch</th>\n",
       "      <th>PoolArea</th>\n",
       "      <th>MiscVal</th>\n",
       "      <th>MoSold</th>\n",
       "      <th>YrSold</th>\n",
       "      <th>SalePrice</th>\n",
       "      <th>train_test</th>\n",
       "    </tr>\n",
       "  </thead>\n",
       "  <tbody>\n",
       "    <tr>\n",
       "      <th>count</th>\n",
       "      <td>2919.000000</td>\n",
       "      <td>2919.000000</td>\n",
       "      <td>2433.000000</td>\n",
       "      <td>2919.000000</td>\n",
       "      <td>2919.000000</td>\n",
       "      <td>2919.000000</td>\n",
       "      <td>2919.000000</td>\n",
       "      <td>2919.000000</td>\n",
       "      <td>2896.000000</td>\n",
       "      <td>2918.000000</td>\n",
       "      <td>...</td>\n",
       "      <td>2919.000000</td>\n",
       "      <td>2919.000000</td>\n",
       "      <td>2919.000000</td>\n",
       "      <td>2919.000000</td>\n",
       "      <td>2919.000000</td>\n",
       "      <td>2919.000000</td>\n",
       "      <td>2919.000000</td>\n",
       "      <td>2919.000000</td>\n",
       "      <td>1460.000000</td>\n",
       "      <td>2919.000000</td>\n",
       "    </tr>\n",
       "    <tr>\n",
       "      <th>mean</th>\n",
       "      <td>1460.000000</td>\n",
       "      <td>57.137718</td>\n",
       "      <td>69.305795</td>\n",
       "      <td>10168.114080</td>\n",
       "      <td>6.089072</td>\n",
       "      <td>5.564577</td>\n",
       "      <td>1971.312778</td>\n",
       "      <td>1984.264474</td>\n",
       "      <td>102.201312</td>\n",
       "      <td>441.423235</td>\n",
       "      <td>...</td>\n",
       "      <td>47.486811</td>\n",
       "      <td>23.098321</td>\n",
       "      <td>2.602261</td>\n",
       "      <td>16.062350</td>\n",
       "      <td>2.251799</td>\n",
       "      <td>50.825968</td>\n",
       "      <td>6.213087</td>\n",
       "      <td>2007.792737</td>\n",
       "      <td>180921.195890</td>\n",
       "      <td>0.500171</td>\n",
       "    </tr>\n",
       "    <tr>\n",
       "      <th>std</th>\n",
       "      <td>842.787043</td>\n",
       "      <td>42.517628</td>\n",
       "      <td>23.344905</td>\n",
       "      <td>7886.996359</td>\n",
       "      <td>1.409947</td>\n",
       "      <td>1.113131</td>\n",
       "      <td>30.291442</td>\n",
       "      <td>20.894344</td>\n",
       "      <td>179.334253</td>\n",
       "      <td>455.610826</td>\n",
       "      <td>...</td>\n",
       "      <td>67.575493</td>\n",
       "      <td>64.244246</td>\n",
       "      <td>25.188169</td>\n",
       "      <td>56.184365</td>\n",
       "      <td>35.663946</td>\n",
       "      <td>567.402211</td>\n",
       "      <td>2.714762</td>\n",
       "      <td>1.314964</td>\n",
       "      <td>79442.502883</td>\n",
       "      <td>0.500086</td>\n",
       "    </tr>\n",
       "    <tr>\n",
       "      <th>min</th>\n",
       "      <td>1.000000</td>\n",
       "      <td>20.000000</td>\n",
       "      <td>21.000000</td>\n",
       "      <td>1300.000000</td>\n",
       "      <td>1.000000</td>\n",
       "      <td>1.000000</td>\n",
       "      <td>1872.000000</td>\n",
       "      <td>1950.000000</td>\n",
       "      <td>0.000000</td>\n",
       "      <td>0.000000</td>\n",
       "      <td>...</td>\n",
       "      <td>0.000000</td>\n",
       "      <td>0.000000</td>\n",
       "      <td>0.000000</td>\n",
       "      <td>0.000000</td>\n",
       "      <td>0.000000</td>\n",
       "      <td>0.000000</td>\n",
       "      <td>1.000000</td>\n",
       "      <td>2006.000000</td>\n",
       "      <td>34900.000000</td>\n",
       "      <td>0.000000</td>\n",
       "    </tr>\n",
       "    <tr>\n",
       "      <th>25%</th>\n",
       "      <td>730.500000</td>\n",
       "      <td>20.000000</td>\n",
       "      <td>59.000000</td>\n",
       "      <td>7478.000000</td>\n",
       "      <td>5.000000</td>\n",
       "      <td>5.000000</td>\n",
       "      <td>1953.500000</td>\n",
       "      <td>1965.000000</td>\n",
       "      <td>0.000000</td>\n",
       "      <td>0.000000</td>\n",
       "      <td>...</td>\n",
       "      <td>0.000000</td>\n",
       "      <td>0.000000</td>\n",
       "      <td>0.000000</td>\n",
       "      <td>0.000000</td>\n",
       "      <td>0.000000</td>\n",
       "      <td>0.000000</td>\n",
       "      <td>4.000000</td>\n",
       "      <td>2007.000000</td>\n",
       "      <td>129975.000000</td>\n",
       "      <td>0.000000</td>\n",
       "    </tr>\n",
       "    <tr>\n",
       "      <th>50%</th>\n",
       "      <td>1460.000000</td>\n",
       "      <td>50.000000</td>\n",
       "      <td>68.000000</td>\n",
       "      <td>9453.000000</td>\n",
       "      <td>6.000000</td>\n",
       "      <td>5.000000</td>\n",
       "      <td>1973.000000</td>\n",
       "      <td>1993.000000</td>\n",
       "      <td>0.000000</td>\n",
       "      <td>368.500000</td>\n",
       "      <td>...</td>\n",
       "      <td>26.000000</td>\n",
       "      <td>0.000000</td>\n",
       "      <td>0.000000</td>\n",
       "      <td>0.000000</td>\n",
       "      <td>0.000000</td>\n",
       "      <td>0.000000</td>\n",
       "      <td>6.000000</td>\n",
       "      <td>2008.000000</td>\n",
       "      <td>163000.000000</td>\n",
       "      <td>1.000000</td>\n",
       "    </tr>\n",
       "    <tr>\n",
       "      <th>75%</th>\n",
       "      <td>2189.500000</td>\n",
       "      <td>70.000000</td>\n",
       "      <td>80.000000</td>\n",
       "      <td>11570.000000</td>\n",
       "      <td>7.000000</td>\n",
       "      <td>6.000000</td>\n",
       "      <td>2001.000000</td>\n",
       "      <td>2004.000000</td>\n",
       "      <td>164.000000</td>\n",
       "      <td>733.000000</td>\n",
       "      <td>...</td>\n",
       "      <td>70.000000</td>\n",
       "      <td>0.000000</td>\n",
       "      <td>0.000000</td>\n",
       "      <td>0.000000</td>\n",
       "      <td>0.000000</td>\n",
       "      <td>0.000000</td>\n",
       "      <td>8.000000</td>\n",
       "      <td>2009.000000</td>\n",
       "      <td>214000.000000</td>\n",
       "      <td>1.000000</td>\n",
       "    </tr>\n",
       "    <tr>\n",
       "      <th>max</th>\n",
       "      <td>2919.000000</td>\n",
       "      <td>190.000000</td>\n",
       "      <td>313.000000</td>\n",
       "      <td>215245.000000</td>\n",
       "      <td>10.000000</td>\n",
       "      <td>9.000000</td>\n",
       "      <td>2010.000000</td>\n",
       "      <td>2010.000000</td>\n",
       "      <td>1600.000000</td>\n",
       "      <td>5644.000000</td>\n",
       "      <td>...</td>\n",
       "      <td>742.000000</td>\n",
       "      <td>1012.000000</td>\n",
       "      <td>508.000000</td>\n",
       "      <td>576.000000</td>\n",
       "      <td>800.000000</td>\n",
       "      <td>17000.000000</td>\n",
       "      <td>12.000000</td>\n",
       "      <td>2010.000000</td>\n",
       "      <td>755000.000000</td>\n",
       "      <td>1.000000</td>\n",
       "    </tr>\n",
       "  </tbody>\n",
       "</table>\n",
       "<p>8 rows × 39 columns</p>\n",
       "</div>"
      ],
      "text/plain": [
       "                Id   MSSubClass  LotFrontage        LotArea  OverallQual  \\\n",
       "count  2919.000000  2919.000000  2433.000000    2919.000000  2919.000000   \n",
       "mean   1460.000000    57.137718    69.305795   10168.114080     6.089072   \n",
       "std     842.787043    42.517628    23.344905    7886.996359     1.409947   \n",
       "min       1.000000    20.000000    21.000000    1300.000000     1.000000   \n",
       "25%     730.500000    20.000000    59.000000    7478.000000     5.000000   \n",
       "50%    1460.000000    50.000000    68.000000    9453.000000     6.000000   \n",
       "75%    2189.500000    70.000000    80.000000   11570.000000     7.000000   \n",
       "max    2919.000000   190.000000   313.000000  215245.000000    10.000000   \n",
       "\n",
       "       OverallCond    YearBuilt  YearRemodAdd   MasVnrArea   BsmtFinSF1  ...  \\\n",
       "count  2919.000000  2919.000000   2919.000000  2896.000000  2918.000000  ...   \n",
       "mean      5.564577  1971.312778   1984.264474   102.201312   441.423235  ...   \n",
       "std       1.113131    30.291442     20.894344   179.334253   455.610826  ...   \n",
       "min       1.000000  1872.000000   1950.000000     0.000000     0.000000  ...   \n",
       "25%       5.000000  1953.500000   1965.000000     0.000000     0.000000  ...   \n",
       "50%       5.000000  1973.000000   1993.000000     0.000000   368.500000  ...   \n",
       "75%       6.000000  2001.000000   2004.000000   164.000000   733.000000  ...   \n",
       "max       9.000000  2010.000000   2010.000000  1600.000000  5644.000000  ...   \n",
       "\n",
       "       OpenPorchSF  EnclosedPorch    3SsnPorch  ScreenPorch     PoolArea  \\\n",
       "count  2919.000000    2919.000000  2919.000000  2919.000000  2919.000000   \n",
       "mean     47.486811      23.098321     2.602261    16.062350     2.251799   \n",
       "std      67.575493      64.244246    25.188169    56.184365    35.663946   \n",
       "min       0.000000       0.000000     0.000000     0.000000     0.000000   \n",
       "25%       0.000000       0.000000     0.000000     0.000000     0.000000   \n",
       "50%      26.000000       0.000000     0.000000     0.000000     0.000000   \n",
       "75%      70.000000       0.000000     0.000000     0.000000     0.000000   \n",
       "max     742.000000    1012.000000   508.000000   576.000000   800.000000   \n",
       "\n",
       "            MiscVal       MoSold       YrSold      SalePrice   train_test  \n",
       "count   2919.000000  2919.000000  2919.000000    1460.000000  2919.000000  \n",
       "mean      50.825968     6.213087  2007.792737  180921.195890     0.500171  \n",
       "std      567.402211     2.714762     1.314964   79442.502883     0.500086  \n",
       "min        0.000000     1.000000  2006.000000   34900.000000     0.000000  \n",
       "25%        0.000000     4.000000  2007.000000  129975.000000     0.000000  \n",
       "50%        0.000000     6.000000  2008.000000  163000.000000     1.000000  \n",
       "75%        0.000000     8.000000  2009.000000  214000.000000     1.000000  \n",
       "max    17000.000000    12.000000  2010.000000  755000.000000     1.000000  \n",
       "\n",
       "[8 rows x 39 columns]"
      ]
     },
     "execution_count": 4,
     "metadata": {},
     "output_type": "execute_result"
    }
   ],
   "source": [
    "#getting an idea of the quantitative variables\n",
    "all_data.describe()"
   ]
  },
  {
   "cell_type": "code",
   "execution_count": 5,
   "id": "882740d9",
   "metadata": {
    "execution": {
     "iopub.execute_input": "2022-09-12T22:44:14.490808Z",
     "iopub.status.busy": "2022-09-12T22:44:14.490412Z",
     "iopub.status.idle": "2022-09-12T22:44:14.502113Z",
     "shell.execute_reply": "2022-09-12T22:44:14.500842Z"
    },
    "papermill": {
     "duration": 0.02331,
     "end_time": "2022-09-12T22:44:14.504744",
     "exception": false,
     "start_time": "2022-09-12T22:44:14.481434",
     "status": "completed"
    },
    "tags": []
   },
   "outputs": [],
   "source": [
    "#seperating variables in to quantitative and qualitative\n",
    "qual_vars = []\n",
    "quant_vars = []\n",
    "for column in all_data.columns:\n",
    "    if all_data[column].dtype == 'object':\n",
    "        qual_vars.append(column)\n",
    "    else:\n",
    "        quant_vars.append(column)\n",
    "quant_vars.remove('SalePrice')\n",
    "quant_vars.remove('Id')\n",
    "quant_vars.remove('MSSubClass')\n",
    "qual_vars.append('MSSubClass')"
   ]
  },
  {
   "cell_type": "code",
   "execution_count": 6,
   "id": "30001d12",
   "metadata": {
    "execution": {
     "iopub.execute_input": "2022-09-12T22:44:14.521259Z",
     "iopub.status.busy": "2022-09-12T22:44:14.520407Z",
     "iopub.status.idle": "2022-09-12T22:44:14.535996Z",
     "shell.execute_reply": "2022-09-12T22:44:14.534849Z"
    },
    "papermill": {
     "duration": 0.026469,
     "end_time": "2022-09-12T22:44:14.538533",
     "exception": false,
     "start_time": "2022-09-12T22:44:14.512064",
     "status": "completed"
    },
    "tags": []
   },
   "outputs": [
    {
     "data": {
      "text/plain": [
       "Id                  0\n",
       "MSSubClass          0\n",
       "MSZoning            4\n",
       "LotFrontage       486\n",
       "LotArea             0\n",
       "                 ... \n",
       "YrSold              0\n",
       "SaleType            1\n",
       "SaleCondition       0\n",
       "SalePrice        1459\n",
       "train_test          0\n",
       "Length: 82, dtype: int64"
      ]
     },
     "execution_count": 6,
     "metadata": {},
     "output_type": "execute_result"
    }
   ],
   "source": [
    "all_data.isna().sum()"
   ]
  },
  {
   "cell_type": "code",
   "execution_count": 7,
   "id": "bdfeb0a1",
   "metadata": {
    "execution": {
     "iopub.execute_input": "2022-09-12T22:44:14.555166Z",
     "iopub.status.busy": "2022-09-12T22:44:14.554753Z",
     "iopub.status.idle": "2022-09-12T22:44:14.573849Z",
     "shell.execute_reply": "2022-09-12T22:44:14.572634Z"
    },
    "papermill": {
     "duration": 0.030427,
     "end_time": "2022-09-12T22:44:14.576594",
     "exception": false,
     "start_time": "2022-09-12T22:44:14.546167",
     "status": "completed"
    },
    "tags": []
   },
   "outputs": [],
   "source": [
    "#replacing missing values\n",
    "LotFrontageMedian = np.median(train['LotFrontage'].dropna())\n",
    "GarageYrBltMedian = np.median(train['GarageYrBlt'].dropna())\n",
    "MasVnrAreaMedian = np.median(train['MasVnrArea'].dropna())\n",
    "BsmtFinSF1Median = np.median(train['BsmtFinSF1'].dropna())\n",
    "BsmtFinSF2Median = np.median(train['BsmtFinSF2'].dropna())\n",
    "BsmtUnfSFMedian = np.median(train['BsmtUnfSF'].dropna())\n",
    "TotalBsmtSFMedian = np.median(train['TotalBsmtSF'].dropna())\n",
    "BsmtFullBathMedian = np.median(train['BsmtFullBath'].dropna())\n",
    "BsmtHalfBathMedian = np.median(train['BsmtHalfBath'].dropna())\n",
    "GarageCarsMedian = np.median(train['GarageCars'].dropna())\n",
    "GarageAreaMedian = np.median(train['GarageArea'].dropna())\n",
    "values = {'LotFrontage': LotFrontageMedian, 'GarageYrBlt': GarageYrBltMedian, 'MasVnrArea': MasVnrAreaMedian\n",
    "         ,'BsmtFinSF1': BsmtFinSF1Median, 'BsmtFinSF2': BsmtFinSF2Median, 'BsmtUnfSF': BsmtUnfSFMedian,\n",
    "          'TotalBsmtSF': TotalBsmtSFMedian,'BsmtFullBath': BsmtFullBathMedian, 'BsmtHalfBath': BsmtHalfBathMedian,\n",
    "          'GarageCars': GarageCarsMedian,'GarageArea': GarageAreaMedian}\n",
    "test.fillna(value=values,inplace=True)\n",
    "train.fillna(value=values, inplace=True)"
   ]
  },
  {
   "cell_type": "code",
   "execution_count": 8,
   "id": "51ce35a9",
   "metadata": {
    "execution": {
     "iopub.execute_input": "2022-09-12T22:44:14.593496Z",
     "iopub.status.busy": "2022-09-12T22:44:14.593079Z",
     "iopub.status.idle": "2022-09-12T22:44:14.660331Z",
     "shell.execute_reply": "2022-09-12T22:44:14.659062Z"
    },
    "papermill": {
     "duration": 0.079429,
     "end_time": "2022-09-12T22:44:14.663415",
     "exception": false,
     "start_time": "2022-09-12T22:44:14.583986",
     "status": "completed"
    },
    "tags": []
   },
   "outputs": [],
   "source": [
    "#getting dummies\n",
    "qual_vars.append('Id')\n",
    "qual_vars.append('train_test')\n",
    "dummies = pd.get_dummies(all_data[qual_vars])\n",
    "train_dummies = dummies[dummies['train_test']==1]\n",
    "test_dummies = dummies[dummies['train_test']==0]"
   ]
  },
  {
   "cell_type": "code",
   "execution_count": 9,
   "id": "4f735963",
   "metadata": {
    "execution": {
     "iopub.execute_input": "2022-09-12T22:44:14.679417Z",
     "iopub.status.busy": "2022-09-12T22:44:14.679020Z",
     "iopub.status.idle": "2022-09-12T22:44:14.707658Z",
     "shell.execute_reply": "2022-09-12T22:44:14.706435Z"
    },
    "papermill": {
     "duration": 0.040213,
     "end_time": "2022-09-12T22:44:14.710706",
     "exception": false,
     "start_time": "2022-09-12T22:44:14.670493",
     "status": "completed"
    },
    "tags": []
   },
   "outputs": [],
   "source": [
    "#final split into x, y, test, and train\n",
    "quant_vars.append('Id')\n",
    "X_train = train[quant_vars]\n",
    "X_train = X_train.merge(train_dummies, on='Id')\n",
    "y_train = train['SalePrice']\n",
    "X_test = test[quant_vars]\n",
    "X_test = X_test.merge(test_dummies, on='Id')"
   ]
  },
  {
   "cell_type": "markdown",
   "id": "a13d068e",
   "metadata": {
    "papermill": {
     "duration": 0.006864,
     "end_time": "2022-09-12T22:44:14.724802",
     "exception": false,
     "start_time": "2022-09-12T22:44:14.717938",
     "status": "completed"
    },
    "tags": []
   },
   "source": [
    "## Exploratory Analysis:"
   ]
  },
  {
   "cell_type": "code",
   "execution_count": 10,
   "id": "5df5251c",
   "metadata": {
    "_kg_hide-output": true,
    "execution": {
     "iopub.execute_input": "2022-09-12T22:44:14.742166Z",
     "iopub.status.busy": "2022-09-12T22:44:14.741359Z",
     "iopub.status.idle": "2022-09-12T22:44:14.746191Z",
     "shell.execute_reply": "2022-09-12T22:44:14.745232Z"
    },
    "papermill": {
     "duration": 0.016527,
     "end_time": "2022-09-12T22:44:14.748465",
     "exception": false,
     "start_time": "2022-09-12T22:44:14.731938",
     "status": "completed"
    },
    "tags": []
   },
   "outputs": [],
   "source": [
    "#looking at correlations between qualitative variables and price graphically\n",
    "#for var in quant_vars:\n",
    "    #sns.regplot(data=train,x=var,y='SalePrice')\n",
    "    #plt.show()"
   ]
  },
  {
   "cell_type": "code",
   "execution_count": 11,
   "id": "f13522e4",
   "metadata": {
    "execution": {
     "iopub.execute_input": "2022-09-12T22:44:14.765088Z",
     "iopub.status.busy": "2022-09-12T22:44:14.764246Z",
     "iopub.status.idle": "2022-09-12T22:44:15.063432Z",
     "shell.execute_reply": "2022-09-12T22:44:15.062073Z"
    },
    "papermill": {
     "duration": 0.311145,
     "end_time": "2022-09-12T22:44:15.066765",
     "exception": false,
     "start_time": "2022-09-12T22:44:14.755620",
     "status": "completed"
    },
    "tags": []
   },
   "outputs": [],
   "source": [
    "from sklearn.metrics import r2_score\n",
    "from sklearn.linear_model import LinearRegression"
   ]
  },
  {
   "cell_type": "code",
   "execution_count": 12,
   "id": "122806a3",
   "metadata": {
    "execution": {
     "iopub.execute_input": "2022-09-12T22:44:15.086750Z",
     "iopub.status.busy": "2022-09-12T22:44:15.086167Z",
     "iopub.status.idle": "2022-09-12T22:44:15.091779Z",
     "shell.execute_reply": "2022-09-12T22:44:15.090570Z"
    },
    "papermill": {
     "duration": 0.017807,
     "end_time": "2022-09-12T22:44:15.094476",
     "exception": false,
     "start_time": "2022-09-12T22:44:15.076669",
     "status": "completed"
    },
    "tags": []
   },
   "outputs": [],
   "source": [
    "#looking at correlations between qualitative variables and price using r_squared\n",
    "# for var in quant_vars:\n",
    "#     x = X_train[var]\n",
    "#     X = x[:, None]\n",
    "#     reg = LinearRegression()\n",
    "#     reg.fit(X,y_train)\n",
    "#     y = reg.predict(X_test[var][:, None])\n",
    "#     r2_score(y)"
   ]
  },
  {
   "cell_type": "code",
   "execution_count": 13,
   "id": "6fbc0f20",
   "metadata": {
    "execution": {
     "iopub.execute_input": "2022-09-12T22:44:15.113012Z",
     "iopub.status.busy": "2022-09-12T22:44:15.111808Z",
     "iopub.status.idle": "2022-09-12T22:44:15.117857Z",
     "shell.execute_reply": "2022-09-12T22:44:15.116771Z"
    },
    "papermill": {
     "duration": 0.019421,
     "end_time": "2022-09-12T22:44:15.121377",
     "exception": false,
     "start_time": "2022-09-12T22:44:15.101956",
     "status": "completed"
    },
    "tags": []
   },
   "outputs": [],
   "source": [
    "# X_test.isna().sum()"
   ]
  },
  {
   "cell_type": "markdown",
   "id": "4458dc24",
   "metadata": {
    "papermill": {
     "duration": 0.007645,
     "end_time": "2022-09-12T22:44:15.138096",
     "exception": false,
     "start_time": "2022-09-12T22:44:15.130451",
     "status": "completed"
    },
    "tags": []
   },
   "source": [
    "## Preliminary Correlations"
   ]
  },
  {
   "cell_type": "code",
   "execution_count": 14,
   "id": "cdbc09ff",
   "metadata": {
    "execution": {
     "iopub.execute_input": "2022-09-12T22:44:15.155446Z",
     "iopub.status.busy": "2022-09-12T22:44:15.154360Z",
     "iopub.status.idle": "2022-09-12T22:44:15.265495Z",
     "shell.execute_reply": "2022-09-12T22:44:15.264010Z"
    },
    "papermill": {
     "duration": 0.12264,
     "end_time": "2022-09-12T22:44:15.268309",
     "exception": false,
     "start_time": "2022-09-12T22:44:15.145669",
     "status": "completed"
    },
    "tags": []
   },
   "outputs": [],
   "source": [
    "#importing models\n",
    "from sklearn.preprocessing import StandardScaler\n",
    "from sklearn.model_selection import cross_val_score\n",
    "from sklearn.linear_model import LinearRegression\n",
    "from sklearn.linear_model import Ridge\n",
    "from sklearn.linear_model import Lasso\n",
    "from xgboost import XGBRegressor"
   ]
  },
  {
   "cell_type": "code",
   "execution_count": 15,
   "id": "4e73831a",
   "metadata": {
    "execution": {
     "iopub.execute_input": "2022-09-12T22:44:15.286311Z",
     "iopub.status.busy": "2022-09-12T22:44:15.285316Z",
     "iopub.status.idle": "2022-09-12T22:44:15.290469Z",
     "shell.execute_reply": "2022-09-12T22:44:15.289438Z"
    },
    "papermill": {
     "duration": 0.016853,
     "end_time": "2022-09-12T22:44:15.292937",
     "exception": false,
     "start_time": "2022-09-12T22:44:15.276084",
     "status": "completed"
    },
    "tags": []
   },
   "outputs": [],
   "source": [
    "#scaling\n",
    "#scaler=StandardScaler()\n",
    "#X_train_scaled = scaler.fit_transform(X_train)\n",
    "#X_test_scaled = scaler.fit_transform(X_test)"
   ]
  },
  {
   "cell_type": "code",
   "execution_count": 16,
   "id": "5d6a2907",
   "metadata": {
    "execution": {
     "iopub.execute_input": "2022-09-12T22:44:15.309927Z",
     "iopub.status.busy": "2022-09-12T22:44:15.309267Z",
     "iopub.status.idle": "2022-09-12T22:44:16.017782Z",
     "shell.execute_reply": "2022-09-12T22:44:16.015706Z"
    },
    "papermill": {
     "duration": 0.722423,
     "end_time": "2022-09-12T22:44:16.023046",
     "exception": false,
     "start_time": "2022-09-12T22:44:15.300623",
     "status": "completed"
    },
    "tags": []
   },
   "outputs": [
    {
     "name": "stdout",
     "output_type": "stream",
     "text": [
      "[0.82274251 0.82014796 0.7938363  0.88785855 0.64310393]\n",
      "0.7935378524251281\n"
     ]
    }
   ],
   "source": [
    "#linear regression\n",
    "reg = LinearRegression()\n",
    "cv = cross_val_score(reg,X_train,y_train,cv=5)\n",
    "print(cv)\n",
    "print(np.mean(cv))"
   ]
  },
  {
   "cell_type": "code",
   "execution_count": 17,
   "id": "15325470",
   "metadata": {
    "execution": {
     "iopub.execute_input": "2022-09-12T22:44:16.104275Z",
     "iopub.status.busy": "2022-09-12T22:44:16.103618Z",
     "iopub.status.idle": "2022-09-12T22:44:16.398651Z",
     "shell.execute_reply": "2022-09-12T22:44:16.397080Z"
    },
    "papermill": {
     "duration": 0.329938,
     "end_time": "2022-09-12T22:44:16.403100",
     "exception": false,
     "start_time": "2022-09-12T22:44:16.073162",
     "status": "completed"
    },
    "tags": []
   },
   "outputs": [
    {
     "name": "stdout",
     "output_type": "stream",
     "text": [
      "[0.88687651 0.82509237 0.86910092 0.87616255 0.68095448]\n",
      "0.8276373640196087\n"
     ]
    }
   ],
   "source": [
    "#ridge regression\n",
    "ridge = Ridge()\n",
    "cv = cross_val_score(ridge,X_train,y_train)\n",
    "print(cv)\n",
    "print(np.mean(cv))"
   ]
  },
  {
   "cell_type": "code",
   "execution_count": 18,
   "id": "d3c76290",
   "metadata": {
    "execution": {
     "iopub.execute_input": "2022-09-12T22:44:16.477145Z",
     "iopub.status.busy": "2022-09-12T22:44:16.476289Z",
     "iopub.status.idle": "2022-09-12T22:44:18.958930Z",
     "shell.execute_reply": "2022-09-12T22:44:18.956034Z"
    },
    "papermill": {
     "duration": 2.525957,
     "end_time": "2022-09-12T22:44:18.963949",
     "exception": false,
     "start_time": "2022-09-12T22:44:16.437992",
     "status": "completed"
    },
    "tags": []
   },
   "outputs": [
    {
     "name": "stderr",
     "output_type": "stream",
     "text": [
      "/opt/conda/lib/python3.7/site-packages/sklearn/linear_model/_coordinate_descent.py:648: ConvergenceWarning: Objective did not converge. You might want to increase the number of iterations, check the scale of the features or consider increasing regularisation. Duality gap: 2.398e+11, tolerance: 7.592e+08\n",
      "  coef_, l1_reg, l2_reg, X, y, max_iter, tol, rng, random, positive\n",
      "/opt/conda/lib/python3.7/site-packages/sklearn/linear_model/_coordinate_descent.py:648: ConvergenceWarning: Objective did not converge. You might want to increase the number of iterations, check the scale of the features or consider increasing regularisation. Duality gap: 2.067e+11, tolerance: 7.288e+08\n",
      "  coef_, l1_reg, l2_reg, X, y, max_iter, tol, rng, random, positive\n",
      "/opt/conda/lib/python3.7/site-packages/sklearn/linear_model/_coordinate_descent.py:648: ConvergenceWarning: Objective did not converge. You might want to increase the number of iterations, check the scale of the features or consider increasing regularisation. Duality gap: 1.867e+11, tolerance: 6.990e+08\n",
      "  coef_, l1_reg, l2_reg, X, y, max_iter, tol, rng, random, positive\n",
      "/opt/conda/lib/python3.7/site-packages/sklearn/linear_model/_coordinate_descent.py:648: ConvergenceWarning: Objective did not converge. You might want to increase the number of iterations, check the scale of the features or consider increasing regularisation. Duality gap: 2.443e+11, tolerance: 7.706e+08\n",
      "  coef_, l1_reg, l2_reg, X, y, max_iter, tol, rng, random, positive\n"
     ]
    },
    {
     "name": "stdout",
     "output_type": "stream",
     "text": [
      "[0.85947633 0.81885361 0.81373485 0.88872842 0.64532243]\n",
      "0.805223127996918\n"
     ]
    },
    {
     "name": "stderr",
     "output_type": "stream",
     "text": [
      "/opt/conda/lib/python3.7/site-packages/sklearn/linear_model/_coordinate_descent.py:648: ConvergenceWarning: Objective did not converge. You might want to increase the number of iterations, check the scale of the features or consider increasing regularisation. Duality gap: 1.923e+11, tolerance: 7.249e+08\n",
      "  coef_, l1_reg, l2_reg, X, y, max_iter, tol, rng, random, positive\n"
     ]
    }
   ],
   "source": [
    "#lasso regression\n",
    "lasso = Lasso()\n",
    "cv = cross_val_score(lasso,X_train,y_train)\n",
    "print(cv)\n",
    "print(np.mean(cv))"
   ]
  },
  {
   "cell_type": "code",
   "execution_count": 19,
   "id": "2d3f660b",
   "metadata": {
    "execution": {
     "iopub.execute_input": "2022-09-12T22:44:19.006304Z",
     "iopub.status.busy": "2022-09-12T22:44:19.005512Z",
     "iopub.status.idle": "2022-09-12T22:44:25.572464Z",
     "shell.execute_reply": "2022-09-12T22:44:25.571483Z"
    },
    "papermill": {
     "duration": 6.591429,
     "end_time": "2022-09-12T22:44:25.575373",
     "exception": false,
     "start_time": "2022-09-12T22:44:18.983944",
     "status": "completed"
    },
    "tags": []
   },
   "outputs": [
    {
     "name": "stdout",
     "output_type": "stream",
     "text": [
      "[0.85653569 0.82074884 0.85277911 0.89656454 0.87659978]\n",
      "0.8606455910255774\n"
     ]
    }
   ],
   "source": [
    "#XGBRegressor\n",
    "xgb = XGBRegressor()\n",
    "cv = cross_val_score(xgb,X_train,y_train)\n",
    "print(cv)\n",
    "print(np.mean(cv))"
   ]
  },
  {
   "cell_type": "markdown",
   "id": "005c956b",
   "metadata": {
    "papermill": {
     "duration": 0.007591,
     "end_time": "2022-09-12T22:44:25.592008",
     "exception": false,
     "start_time": "2022-09-12T22:44:25.584417",
     "status": "completed"
    },
    "tags": []
   },
   "source": [
    "**To do:**\n",
    "\n",
    "Make dummies\n",
    "\n",
    "Do more feature engineering"
   ]
  },
  {
   "cell_type": "markdown",
   "id": "cf220dbc",
   "metadata": {
    "papermill": {
     "duration": 0.007562,
     "end_time": "2022-09-12T22:44:25.607277",
     "exception": false,
     "start_time": "2022-09-12T22:44:25.599715",
     "status": "completed"
    },
    "tags": []
   },
   "source": [
    "## Training Final Model"
   ]
  },
  {
   "cell_type": "code",
   "execution_count": 20,
   "id": "41587d88",
   "metadata": {
    "execution": {
     "iopub.execute_input": "2022-09-12T22:44:25.624797Z",
     "iopub.status.busy": "2022-09-12T22:44:25.624007Z",
     "iopub.status.idle": "2022-09-12T22:44:27.011909Z",
     "shell.execute_reply": "2022-09-12T22:44:27.010744Z"
    },
    "papermill": {
     "duration": 1.399768,
     "end_time": "2022-09-12T22:44:27.014712",
     "exception": false,
     "start_time": "2022-09-12T22:44:25.614944",
     "status": "completed"
    },
    "tags": []
   },
   "outputs": [],
   "source": [
    "xgb_final = XGBRegressor()\n",
    "xgb_final.fit(X_train,y_train)\n",
    "y_test = xgb_final.predict(X_test)"
   ]
  },
  {
   "cell_type": "code",
   "execution_count": 21,
   "id": "79ffbf0a",
   "metadata": {
    "execution": {
     "iopub.execute_input": "2022-09-12T22:44:27.034969Z",
     "iopub.status.busy": "2022-09-12T22:44:27.034558Z",
     "iopub.status.idle": "2022-09-12T22:44:27.045541Z",
     "shell.execute_reply": "2022-09-12T22:44:27.044745Z"
    },
    "papermill": {
     "duration": 0.023449,
     "end_time": "2022-09-12T22:44:27.047790",
     "exception": false,
     "start_time": "2022-09-12T22:44:27.024341",
     "status": "completed"
    },
    "tags": []
   },
   "outputs": [],
   "source": [
    "final_data = {'Id': X_test['Id'], 'SalePrice': y_test}\n",
    "submission = pd.DataFrame(data=final_data)\n",
    "submission.to_csv('submission_xgb1.csv', index=False)"
   ]
  }
 ],
 "metadata": {
  "kernelspec": {
   "display_name": "Python 3",
   "language": "python",
   "name": "python3"
  },
  "language_info": {
   "codemirror_mode": {
    "name": "ipython",
    "version": 3
   },
   "file_extension": ".py",
   "mimetype": "text/x-python",
   "name": "python",
   "nbconvert_exporter": "python",
   "pygments_lexer": "ipython3",
   "version": "3.7.12"
  },
  "papermill": {
   "default_parameters": {},
   "duration": 23.990336,
   "end_time": "2022-09-12T22:44:27.776908",
   "environment_variables": {},
   "exception": null,
   "input_path": "__notebook__.ipynb",
   "output_path": "__notebook__.ipynb",
   "parameters": {},
   "start_time": "2022-09-12T22:44:03.786572",
   "version": "2.3.4"
  }
 },
 "nbformat": 4,
 "nbformat_minor": 5
}
