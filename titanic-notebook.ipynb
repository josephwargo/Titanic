{
 "cells": [
  {
   "cell_type": "markdown",
   "id": "0e10a5dd",
   "metadata": {
    "papermill": {
     "duration": 0.043554,
     "end_time": "2022-09-13T19:28:13.118452",
     "exception": false,
     "start_time": "2022-09-13T19:28:13.074898",
     "status": "completed"
    },
    "tags": []
   },
   "source": [
    "**Intro:**\n",
    "The goal of this competition is to predict the survival rate of titanic passengers based on a dataset containing their gender, age, port of departure, etc.\n",
    "\n",
    "**Best Score:**\n",
    "900/13454, top ~7%"
   ]
  },
  {
   "cell_type": "markdown",
   "id": "b9b33dd7",
   "metadata": {
    "papermill": {
     "duration": 0.043385,
     "end_time": "2022-09-13T19:28:13.205340",
     "exception": false,
     "start_time": "2022-09-13T19:28:13.161955",
     "status": "completed"
    },
    "tags": []
   },
   "source": [
    "## 1. Importing Necessary Packages:"
   ]
  },
  {
   "cell_type": "code",
   "execution_count": 1,
   "id": "6ee58860",
   "metadata": {
    "_cell_guid": "b1076dfc-b9ad-4769-8c92-a6c4dae69d19",
    "_uuid": "8f2839f25d086af736a60e9eeb907d3b93b6e0e5",
    "execution": {
     "iopub.execute_input": "2022-09-13T19:28:13.296834Z",
     "iopub.status.busy": "2022-09-13T19:28:13.296245Z",
     "iopub.status.idle": "2022-09-13T19:28:14.608483Z",
     "shell.execute_reply": "2022-09-13T19:28:14.607826Z"
    },
    "papermill": {
     "duration": 1.362165,
     "end_time": "2022-09-13T19:28:14.612204",
     "exception": false,
     "start_time": "2022-09-13T19:28:13.250039",
     "status": "completed"
    },
    "tags": []
   },
   "outputs": [
    {
     "name": "stdout",
     "output_type": "stream",
     "text": [
      "/kaggle/input/titanic/train.csv\n",
      "/kaggle/input/titanic/test.csv\n",
      "/kaggle/input/titanic/gender_submission.csv\n"
     ]
    }
   ],
   "source": [
    "#importing initial packages\n",
    "import numpy as np # linear algebra\n",
    "import pandas as pd # data processing, CSV file I/O (e.g. pd.read_csv)\n",
    "import matplotlib.pyplot as plt #graphing\n",
    "import matplotlib.patches as mpatches #style\n",
    "import seaborn as sns #advanced graphing\n",
    "%matplotlib inline\n",
    "\n",
    "import os\n",
    "for dirname, _, filenames in os.walk('/kaggle/input'):\n",
    "    for filename in filenames:\n",
    "        print(os.path.join(dirname, filename))"
   ]
  },
  {
   "cell_type": "markdown",
   "id": "73427c3d",
   "metadata": {
    "papermill": {
     "duration": 0.043176,
     "end_time": "2022-09-13T19:28:14.701275",
     "exception": false,
     "start_time": "2022-09-13T19:28:14.658099",
     "status": "completed"
    },
    "tags": []
   },
   "source": [
    "## 2. Importing Data:"
   ]
  },
  {
   "cell_type": "code",
   "execution_count": 2,
   "id": "b578f83e",
   "metadata": {
    "execution": {
     "iopub.execute_input": "2022-09-13T19:28:14.788915Z",
     "iopub.status.busy": "2022-09-13T19:28:14.788385Z",
     "iopub.status.idle": "2022-09-13T19:28:14.838221Z",
     "shell.execute_reply": "2022-09-13T19:28:14.837375Z"
    },
    "papermill": {
     "duration": 0.097067,
     "end_time": "2022-09-13T19:28:14.840587",
     "exception": false,
     "start_time": "2022-09-13T19:28:14.743520",
     "status": "completed"
    },
    "tags": []
   },
   "outputs": [],
   "source": [
    "#importing the data\n",
    "training = pd.read_csv(\"../input/titanic/train.csv\")\n",
    "testing = pd.read_csv(\"../input/titanic/test.csv\")\n",
    "training['train_test']=1\n",
    "testing['train_test']=0\n",
    "all_data=pd.concat([training,testing])"
   ]
  },
  {
   "cell_type": "markdown",
   "id": "81fa7d42",
   "metadata": {
    "papermill": {
     "duration": 0.042646,
     "end_time": "2022-09-13T19:28:14.926868",
     "exception": false,
     "start_time": "2022-09-13T19:28:14.884222",
     "status": "completed"
    },
    "tags": []
   },
   "source": [
    "## 3. Discovering the Data:"
   ]
  },
  {
   "cell_type": "code",
   "execution_count": 3,
   "id": "1c15a92e",
   "metadata": {
    "execution": {
     "iopub.execute_input": "2022-09-13T19:28:15.017102Z",
     "iopub.status.busy": "2022-09-13T19:28:15.016334Z",
     "iopub.status.idle": "2022-09-13T19:28:15.037484Z",
     "shell.execute_reply": "2022-09-13T19:28:15.036702Z"
    },
    "papermill": {
     "duration": 0.070194,
     "end_time": "2022-09-13T19:28:15.040173",
     "exception": false,
     "start_time": "2022-09-13T19:28:14.969979",
     "status": "completed"
    },
    "tags": []
   },
   "outputs": [
    {
     "name": "stdout",
     "output_type": "stream",
     "text": [
      "<class 'pandas.core.frame.DataFrame'>\n",
      "RangeIndex: 891 entries, 0 to 890\n",
      "Data columns (total 13 columns):\n",
      " #   Column       Non-Null Count  Dtype  \n",
      "---  ------       --------------  -----  \n",
      " 0   PassengerId  891 non-null    int64  \n",
      " 1   Survived     891 non-null    int64  \n",
      " 2   Pclass       891 non-null    int64  \n",
      " 3   Name         891 non-null    object \n",
      " 4   Sex          891 non-null    object \n",
      " 5   Age          714 non-null    float64\n",
      " 6   SibSp        891 non-null    int64  \n",
      " 7   Parch        891 non-null    int64  \n",
      " 8   Ticket       891 non-null    object \n",
      " 9   Fare         891 non-null    float64\n",
      " 10  Cabin        204 non-null    object \n",
      " 11  Embarked     889 non-null    object \n",
      " 12  train_test   891 non-null    int64  \n",
      "dtypes: float64(2), int64(6), object(5)\n",
      "memory usage: 90.6+ KB\n"
     ]
    }
   ],
   "source": [
    "#ensuring datatypes are correct\n",
    "training.info()"
   ]
  },
  {
   "cell_type": "code",
   "execution_count": 4,
   "id": "9da8e520",
   "metadata": {
    "execution": {
     "iopub.execute_input": "2022-09-13T19:28:15.129619Z",
     "iopub.status.busy": "2022-09-13T19:28:15.128899Z",
     "iopub.status.idle": "2022-09-13T19:28:15.175010Z",
     "shell.execute_reply": "2022-09-13T19:28:15.174023Z"
    },
    "papermill": {
     "duration": 0.094099,
     "end_time": "2022-09-13T19:28:15.177444",
     "exception": false,
     "start_time": "2022-09-13T19:28:15.083345",
     "status": "completed"
    },
    "tags": []
   },
   "outputs": [
    {
     "data": {
      "text/html": [
       "<div>\n",
       "<style scoped>\n",
       "    .dataframe tbody tr th:only-of-type {\n",
       "        vertical-align: middle;\n",
       "    }\n",
       "\n",
       "    .dataframe tbody tr th {\n",
       "        vertical-align: top;\n",
       "    }\n",
       "\n",
       "    .dataframe thead th {\n",
       "        text-align: right;\n",
       "    }\n",
       "</style>\n",
       "<table border=\"1\" class=\"dataframe\">\n",
       "  <thead>\n",
       "    <tr style=\"text-align: right;\">\n",
       "      <th></th>\n",
       "      <th>PassengerId</th>\n",
       "      <th>Survived</th>\n",
       "      <th>Pclass</th>\n",
       "      <th>Age</th>\n",
       "      <th>SibSp</th>\n",
       "      <th>Parch</th>\n",
       "      <th>Fare</th>\n",
       "      <th>train_test</th>\n",
       "    </tr>\n",
       "  </thead>\n",
       "  <tbody>\n",
       "    <tr>\n",
       "      <th>count</th>\n",
       "      <td>891.000000</td>\n",
       "      <td>891.000000</td>\n",
       "      <td>891.000000</td>\n",
       "      <td>714.000000</td>\n",
       "      <td>891.000000</td>\n",
       "      <td>891.000000</td>\n",
       "      <td>891.000000</td>\n",
       "      <td>891.0</td>\n",
       "    </tr>\n",
       "    <tr>\n",
       "      <th>mean</th>\n",
       "      <td>446.000000</td>\n",
       "      <td>0.383838</td>\n",
       "      <td>2.308642</td>\n",
       "      <td>29.699118</td>\n",
       "      <td>0.523008</td>\n",
       "      <td>0.381594</td>\n",
       "      <td>32.204208</td>\n",
       "      <td>1.0</td>\n",
       "    </tr>\n",
       "    <tr>\n",
       "      <th>std</th>\n",
       "      <td>257.353842</td>\n",
       "      <td>0.486592</td>\n",
       "      <td>0.836071</td>\n",
       "      <td>14.526497</td>\n",
       "      <td>1.102743</td>\n",
       "      <td>0.806057</td>\n",
       "      <td>49.693429</td>\n",
       "      <td>0.0</td>\n",
       "    </tr>\n",
       "    <tr>\n",
       "      <th>min</th>\n",
       "      <td>1.000000</td>\n",
       "      <td>0.000000</td>\n",
       "      <td>1.000000</td>\n",
       "      <td>0.420000</td>\n",
       "      <td>0.000000</td>\n",
       "      <td>0.000000</td>\n",
       "      <td>0.000000</td>\n",
       "      <td>1.0</td>\n",
       "    </tr>\n",
       "    <tr>\n",
       "      <th>25%</th>\n",
       "      <td>223.500000</td>\n",
       "      <td>0.000000</td>\n",
       "      <td>2.000000</td>\n",
       "      <td>20.125000</td>\n",
       "      <td>0.000000</td>\n",
       "      <td>0.000000</td>\n",
       "      <td>7.910400</td>\n",
       "      <td>1.0</td>\n",
       "    </tr>\n",
       "    <tr>\n",
       "      <th>50%</th>\n",
       "      <td>446.000000</td>\n",
       "      <td>0.000000</td>\n",
       "      <td>3.000000</td>\n",
       "      <td>28.000000</td>\n",
       "      <td>0.000000</td>\n",
       "      <td>0.000000</td>\n",
       "      <td>14.454200</td>\n",
       "      <td>1.0</td>\n",
       "    </tr>\n",
       "    <tr>\n",
       "      <th>75%</th>\n",
       "      <td>668.500000</td>\n",
       "      <td>1.000000</td>\n",
       "      <td>3.000000</td>\n",
       "      <td>38.000000</td>\n",
       "      <td>1.000000</td>\n",
       "      <td>0.000000</td>\n",
       "      <td>31.000000</td>\n",
       "      <td>1.0</td>\n",
       "    </tr>\n",
       "    <tr>\n",
       "      <th>max</th>\n",
       "      <td>891.000000</td>\n",
       "      <td>1.000000</td>\n",
       "      <td>3.000000</td>\n",
       "      <td>80.000000</td>\n",
       "      <td>8.000000</td>\n",
       "      <td>6.000000</td>\n",
       "      <td>512.329200</td>\n",
       "      <td>1.0</td>\n",
       "    </tr>\n",
       "  </tbody>\n",
       "</table>\n",
       "</div>"
      ],
      "text/plain": [
       "       PassengerId    Survived      Pclass         Age       SibSp  \\\n",
       "count   891.000000  891.000000  891.000000  714.000000  891.000000   \n",
       "mean    446.000000    0.383838    2.308642   29.699118    0.523008   \n",
       "std     257.353842    0.486592    0.836071   14.526497    1.102743   \n",
       "min       1.000000    0.000000    1.000000    0.420000    0.000000   \n",
       "25%     223.500000    0.000000    2.000000   20.125000    0.000000   \n",
       "50%     446.000000    0.000000    3.000000   28.000000    0.000000   \n",
       "75%     668.500000    1.000000    3.000000   38.000000    1.000000   \n",
       "max     891.000000    1.000000    3.000000   80.000000    8.000000   \n",
       "\n",
       "            Parch        Fare  train_test  \n",
       "count  891.000000  891.000000       891.0  \n",
       "mean     0.381594   32.204208         1.0  \n",
       "std      0.806057   49.693429         0.0  \n",
       "min      0.000000    0.000000         1.0  \n",
       "25%      0.000000    7.910400         1.0  \n",
       "50%      0.000000   14.454200         1.0  \n",
       "75%      0.000000   31.000000         1.0  \n",
       "max      6.000000  512.329200         1.0  "
      ]
     },
     "execution_count": 4,
     "metadata": {},
     "output_type": "execute_result"
    }
   ],
   "source": [
    "#exploring descriptive statistics\n",
    "training.describe()"
   ]
  },
  {
   "cell_type": "markdown",
   "id": "896ba830",
   "metadata": {
    "papermill": {
     "duration": 0.042592,
     "end_time": "2022-09-13T19:28:15.263981",
     "exception": false,
     "start_time": "2022-09-13T19:28:15.221389",
     "status": "completed"
    },
    "tags": []
   },
   "source": [
    "**Observations:**\n",
    "1. Not every person has an age.\n",
    "2. Skewed towards lower ticket classes\n",
    "3. Wide range in fares"
   ]
  },
  {
   "cell_type": "markdown",
   "id": "6bdfd61e",
   "metadata": {
    "papermill": {
     "duration": 0.043437,
     "end_time": "2022-09-13T19:28:15.350900",
     "exception": false,
     "start_time": "2022-09-13T19:28:15.307463",
     "status": "completed"
    },
    "tags": []
   },
   "source": [
    "## 4. Feature Engineering"
   ]
  },
  {
   "cell_type": "code",
   "execution_count": 5,
   "id": "dcf7de05",
   "metadata": {
    "_kg_hide-output": true,
    "execution": {
     "iopub.execute_input": "2022-09-13T19:28:15.440944Z",
     "iopub.status.busy": "2022-09-13T19:28:15.440602Z",
     "iopub.status.idle": "2022-09-13T19:28:15.450530Z",
     "shell.execute_reply": "2022-09-13T19:28:15.449331Z"
    },
    "papermill": {
     "duration": 0.058891,
     "end_time": "2022-09-13T19:28:15.452920",
     "exception": false,
     "start_time": "2022-09-13T19:28:15.394029",
     "status": "completed"
    },
    "tags": []
   },
   "outputs": [
    {
     "data": {
      "text/plain": [
       "n    687\n",
       "C     59\n",
       "B     47\n",
       "D     33\n",
       "E     32\n",
       "A     15\n",
       "F     13\n",
       "G      4\n",
       "T      1\n",
       "Name: Cabin_Type, dtype: int64"
      ]
     },
     "execution_count": 5,
     "metadata": {},
     "output_type": "execute_result"
    }
   ],
   "source": [
    "#identifying the cabin type\n",
    "training['Cabin_Type'] = training['Cabin'].apply(lambda x: str(x)[0])\n",
    "training['Cabin_Type'].value_counts()"
   ]
  },
  {
   "cell_type": "code",
   "execution_count": 6,
   "id": "3154f58c",
   "metadata": {
    "execution": {
     "iopub.execute_input": "2022-09-13T19:28:15.543510Z",
     "iopub.status.busy": "2022-09-13T19:28:15.543164Z",
     "iopub.status.idle": "2022-09-13T19:28:15.559502Z",
     "shell.execute_reply": "2022-09-13T19:28:15.558837Z"
    },
    "papermill": {
     "duration": 0.064851,
     "end_time": "2022-09-13T19:28:15.561544",
     "exception": false,
     "start_time": "2022-09-13T19:28:15.496693",
     "status": "completed"
    },
    "tags": []
   },
   "outputs": [
    {
     "data": {
      "text/plain": [
       "0.0    867\n",
       "1.0     24\n",
       "Name: Multiple_Cabins, dtype: int64"
      ]
     },
     "execution_count": 6,
     "metadata": {},
     "output_type": "execute_result"
    }
   ],
   "source": [
    "#identifying if a passenger has multiple cabins\n",
    "training['Cabin'] = training['Cabin'].astype('string')\n",
    "training.loc[training['Cabin'].str.contains(' ', na=0), 'Multiple_Cabins'] = 1\n",
    "training.loc[training['Multiple_Cabins'] != 1, 'Multiple_Cabins'] = 0\n",
    "training['Multiple_Cabins'].value_counts()"
   ]
  },
  {
   "cell_type": "code",
   "execution_count": 7,
   "id": "f12c5715",
   "metadata": {
    "execution": {
     "iopub.execute_input": "2022-09-13T19:28:15.651895Z",
     "iopub.status.busy": "2022-09-13T19:28:15.651028Z",
     "iopub.status.idle": "2022-09-13T19:28:15.661021Z",
     "shell.execute_reply": "2022-09-13T19:28:15.660036Z"
    },
    "papermill": {
     "duration": 0.05766,
     "end_time": "2022-09-13T19:28:15.663299",
     "exception": false,
     "start_time": "2022-09-13T19:28:15.605639",
     "status": "completed"
    },
    "tags": []
   },
   "outputs": [
    {
     "data": {
      "text/plain": [
       "0    661\n",
       "1    230\n",
       "Name: Ticket_Letters, dtype: int64"
      ]
     },
     "execution_count": 7,
     "metadata": {},
     "output_type": "execute_result"
    }
   ],
   "source": [
    "#identifying if a passenger has a letter before their ticket\n",
    "training['Ticket_Letters']=training['Ticket'].apply(lambda x: 0 if x.isnumeric() else 1)\n",
    "training['Ticket_Letters'].value_counts()"
   ]
  },
  {
   "cell_type": "code",
   "execution_count": 8,
   "id": "7244cace",
   "metadata": {
    "execution": {
     "iopub.execute_input": "2022-09-13T19:28:15.754842Z",
     "iopub.status.busy": "2022-09-13T19:28:15.753892Z",
     "iopub.status.idle": "2022-09-13T19:28:15.785606Z",
     "shell.execute_reply": "2022-09-13T19:28:15.784895Z"
    },
    "papermill": {
     "duration": 0.079285,
     "end_time": "2022-09-13T19:28:15.787543",
     "exception": false,
     "start_time": "2022-09-13T19:28:15.708258",
     "status": "completed"
    },
    "tags": []
   },
   "outputs": [
    {
     "data": {
      "text/plain": [
       " Mr        517\n",
       " Miss      185\n",
       " Mrs       126\n",
       " Master     40\n",
       " Misc       23\n",
       "Name: Title, dtype: int64"
      ]
     },
     "execution_count": 8,
     "metadata": {},
     "output_type": "execute_result"
    }
   ],
   "source": [
    "#seperating a person's title from their name\n",
    "training['Title'] = training['Name'].apply(lambda x: x.split(',')[1].split('.')[0])\n",
    "training['Title'] = training['Title'].str.replace('Ms', 'Miss')\n",
    "training['Title'] = training['Title'].str.replace('Mlle', 'Miss')\n",
    "training['Title'] = training['Title'].str.replace('Mme', 'Mrs')\n",
    "for title in ['Lady', 'Mlle', 'the Countess','Capt', 'Col', 'Mme', 'Don','Dr','Rev', 'Major', 'Sir', 'Jonkheer', 'Dona']:\n",
    "    training['Title'] = training['Title'].str.replace(title, 'Misc')\n",
    "training['Title'].value_counts()"
   ]
  },
  {
   "cell_type": "markdown",
   "id": "e609f2a9",
   "metadata": {
    "papermill": {
     "duration": 0.045042,
     "end_time": "2022-09-13T19:28:15.877362",
     "exception": false,
     "start_time": "2022-09-13T19:28:15.832320",
     "status": "completed"
    },
    "tags": []
   },
   "source": [
    "## 5. Exploratory Analysis:"
   ]
  },
  {
   "cell_type": "code",
   "execution_count": 9,
   "id": "a5644b17",
   "metadata": {
    "execution": {
     "iopub.execute_input": "2022-09-13T19:28:15.971358Z",
     "iopub.status.busy": "2022-09-13T19:28:15.970806Z",
     "iopub.status.idle": "2022-09-13T19:28:15.979342Z",
     "shell.execute_reply": "2022-09-13T19:28:15.978164Z"
    },
    "papermill": {
     "duration": 0.059802,
     "end_time": "2022-09-13T19:28:15.981996",
     "exception": false,
     "start_time": "2022-09-13T19:28:15.922194",
     "status": "completed"
    },
    "tags": []
   },
   "outputs": [],
   "source": [
    "#seperating quantitative and qualitative variables\n",
    "quant_var_list = ['Age','SibSp','Parch','Fare','Survived','PassengerId']\n",
    "qual_var_list = ['Pclass','Sex','Embarked','Cabin_Type','Multiple_Cabins','Ticket_Letters','Title','Survived','PassengerId']\n",
    "quant_var = training[quant_var_list]\n",
    "qual_var = training[qual_var_list]\n",
    "quant_var_list.remove('Survived')\n",
    "quant_var_list.remove('PassengerId')\n",
    "qual_var_list.remove('Survived')\n",
    "qual_var_list.remove('PassengerId')"
   ]
  },
  {
   "cell_type": "code",
   "execution_count": 10,
   "id": "1d9d88a6",
   "metadata": {
    "execution": {
     "iopub.execute_input": "2022-09-13T19:28:16.075928Z",
     "iopub.status.busy": "2022-09-13T19:28:16.075378Z",
     "iopub.status.idle": "2022-09-13T19:28:16.083110Z",
     "shell.execute_reply": "2022-09-13T19:28:16.082182Z"
    },
    "papermill": {
     "duration": 0.057394,
     "end_time": "2022-09-13T19:28:16.085614",
     "exception": false,
     "start_time": "2022-09-13T19:28:16.028220",
     "status": "completed"
    },
    "tags": []
   },
   "outputs": [],
   "source": [
    "#helper functions\n",
    "def easy_hist(i):\n",
    "    plt.hist(quant_var[i])\n",
    "    plt.title(i)\n",
    "    plt.show()\n",
    "    \n",
    "def qual_stacked_bar(i):\n",
    "    bar1=sns.barplot(y=qual_var[i].value_counts(),x=qual_var[i].value_counts().index,color='lightblue')\n",
    "    bar2=sns.barplot(y=qual_var[qual_var['Survived']==True][i].value_counts(),x=qual_var[i].value_counts().index,color='darkblue')\n",
    "    top_bar=mpatches.Patch(color='lightblue',label='Survived = No')\n",
    "    bottom_bar=mpatches.Patch(color='darkblue',label='Survived = Yes')\n",
    "    plt.legend(handles=[top_bar,bottom_bar])\n",
    "    plt.show()\n",
    "    \n",
    "def survived_pivot_table(i):\n",
    "    print(pd.crosstab(training['Survived'],training[i],normalize='columns'))\n",
    "    print()"
   ]
  },
  {
   "cell_type": "code",
   "execution_count": 11,
   "id": "971cbe98",
   "metadata": {
    "execution": {
     "iopub.execute_input": "2022-09-13T19:28:16.178411Z",
     "iopub.status.busy": "2022-09-13T19:28:16.178085Z",
     "iopub.status.idle": "2022-09-13T19:28:16.825126Z",
     "shell.execute_reply": "2022-09-13T19:28:16.823739Z"
    },
    "papermill": {
     "duration": 0.696832,
     "end_time": "2022-09-13T19:28:16.827989",
     "exception": false,
     "start_time": "2022-09-13T19:28:16.131157",
     "status": "completed"
    },
    "tags": []
   },
   "outputs": [
    {
     "data": {
      "image/png": "[encoded data removed]",
      "text/plain": [
       "<Figure size 432x288 with 1 Axes>"
      ]
     },
     "metadata": {
      "needs_background": "light"
     },
     "output_type": "display_data"
    },
    {
     "data": {
      "image/png": "[encoded data removed]",
      "text/plain": [
       "<Figure size 432x288 with 1 Axes>"
      ]
     },
     "metadata": {
      "needs_background": "light"
     },
     "output_type": "display_data"
    },
    {
     "data": {
      "image/png": "[encoded data removed]",
      "text/plain": [
       "<Figure size 432x288 with 1 Axes>"
      ]
     },
     "metadata": {
      "needs_background": "light"
     },
     "output_type": "display_data"
    },
    {
     "data": {
      "image/png": "[encoded data removed]",
      "text/plain": [
       "<Figure size 432x288 with 1 Axes>"
      ]
     },
     "metadata": {
      "needs_background": "light"
     },
     "output_type": "display_data"
    }
   ],
   "source": [
    "#looking at quantitative variable histograms\n",
    "for i in quant_var_list:\n",
    "    easy_hist(i)"
   ]
  },
  {
   "cell_type": "markdown",
   "id": "8974a7b7",
   "metadata": {
    "papermill": {
     "duration": 0.049622,
     "end_time": "2022-09-13T19:28:16.926442",
     "exception": false,
     "start_time": "2022-09-13T19:28:16.876820",
     "status": "completed"
    },
    "tags": []
   },
   "source": [
    "**Observations:**\n",
    "\n",
    "1. Not many children. Age count peaks around 20.\n",
    "2. Mostly 0 siblings or spouses on board, drops off rapidly. A few outliers.\n",
    "3. Mostly 0 parents or children on board, drops off rapidly. A few outliers.\n",
    "4. Mostly cheap fares, drops off rapidly. Grand majority are below $100. A few outliers"
   ]
  },
  {
   "cell_type": "code",
   "execution_count": 12,
   "id": "52b4b085",
   "metadata": {
    "execution": {
     "iopub.execute_input": "2022-09-13T19:28:17.027630Z",
     "iopub.status.busy": "2022-09-13T19:28:17.027299Z",
     "iopub.status.idle": "2022-09-13T19:28:17.349040Z",
     "shell.execute_reply": "2022-09-13T19:28:17.348254Z"
    },
    "papermill": {
     "duration": 0.377057,
     "end_time": "2022-09-13T19:28:17.351425",
     "exception": false,
     "start_time": "2022-09-13T19:28:16.974368",
     "status": "completed"
    },
    "tags": []
   },
   "outputs": [
    {
     "name": "stdout",
     "output_type": "stream",
     "text": [
      "                  Age     SibSp     Parch      Fare  Survived  PassengerId\n",
      "Age          1.000000 -0.308247 -0.189119  0.096067 -0.077221     0.036847\n",
      "SibSp       -0.308247  1.000000  0.414838  0.159651 -0.035322    -0.057527\n",
      "Parch       -0.189119  0.414838  1.000000  0.216225  0.081629    -0.001652\n",
      "Fare         0.096067  0.159651  0.216225  1.000000  0.257307     0.012658\n",
      "Survived    -0.077221 -0.035322  0.081629  0.257307  1.000000    -0.005007\n",
      "PassengerId  0.036847 -0.057527 -0.001652  0.012658 -0.005007     1.000000\n"
     ]
    },
    {
     "data": {
      "text/plain": [
       "<AxesSubplot:>"
      ]
     },
     "execution_count": 12,
     "metadata": {},
     "output_type": "execute_result"
    },
    {
     "data": {
      "image/png": "[encoded data removed]",
      "text/plain": [
       "<Figure size 432x288 with 2 Axes>"
      ]
     },
     "metadata": {
      "needs_background": "light"
     },
     "output_type": "display_data"
    }
   ],
   "source": [
    "#looking for correlations between quantitative variables\n",
    "quant_corr = quant_var.corr()\n",
    "print(quant_corr)\n",
    "sns.heatmap(quant_corr)"
   ]
  },
  {
   "cell_type": "markdown",
   "id": "97bf548c",
   "metadata": {
    "papermill": {
     "duration": 0.049695,
     "end_time": "2022-09-13T19:28:17.451351",
     "exception": false,
     "start_time": "2022-09-13T19:28:17.401656",
     "status": "completed"
    },
    "tags": []
   },
   "source": [
    "**Observations:**\n",
    "\n",
    "1. The only correlation that is slightly of note is the .414838 correlation between number of siblings/spouses and mumber of parents/children. Maybe if someone is traveling with at least a few members of their family, they are more likely to have even more members."
   ]
  },
  {
   "cell_type": "code",
   "execution_count": 13,
   "id": "dba2bc79",
   "metadata": {
    "execution": {
     "iopub.execute_input": "2022-09-13T19:28:17.551393Z",
     "iopub.status.busy": "2022-09-13T19:28:17.551108Z",
     "iopub.status.idle": "2022-09-13T19:28:17.576573Z",
     "shell.execute_reply": "2022-09-13T19:28:17.575479Z"
    },
    "papermill": {
     "duration": 0.078504,
     "end_time": "2022-09-13T19:28:17.579243",
     "exception": false,
     "start_time": "2022-09-13T19:28:17.500739",
     "status": "completed"
    },
    "tags": []
   },
   "outputs": [
    {
     "data": {
      "text/html": [
       "<div>\n",
       "<style scoped>\n",
       "    .dataframe tbody tr th:only-of-type {\n",
       "        vertical-align: middle;\n",
       "    }\n",
       "\n",
       "    .dataframe tbody tr th {\n",
       "        vertical-align: top;\n",
       "    }\n",
       "\n",
       "    .dataframe thead th {\n",
       "        text-align: right;\n",
       "    }\n",
       "</style>\n",
       "<table border=\"1\" class=\"dataframe\">\n",
       "  <thead>\n",
       "    <tr style=\"text-align: right;\">\n",
       "      <th></th>\n",
       "      <th>Age</th>\n",
       "      <th>Fare</th>\n",
       "      <th>Parch</th>\n",
       "      <th>SibSp</th>\n",
       "    </tr>\n",
       "    <tr>\n",
       "      <th>Survived</th>\n",
       "      <th></th>\n",
       "      <th></th>\n",
       "      <th></th>\n",
       "      <th></th>\n",
       "    </tr>\n",
       "  </thead>\n",
       "  <tbody>\n",
       "    <tr>\n",
       "      <th>0</th>\n",
       "      <td>30.626179</td>\n",
       "      <td>22.117887</td>\n",
       "      <td>0.329690</td>\n",
       "      <td>0.553734</td>\n",
       "    </tr>\n",
       "    <tr>\n",
       "      <th>1</th>\n",
       "      <td>28.343690</td>\n",
       "      <td>48.395408</td>\n",
       "      <td>0.464912</td>\n",
       "      <td>0.473684</td>\n",
       "    </tr>\n",
       "  </tbody>\n",
       "</table>\n",
       "</div>"
      ],
      "text/plain": [
       "                Age       Fare     Parch     SibSp\n",
       "Survived                                          \n",
       "0         30.626179  22.117887  0.329690  0.553734\n",
       "1         28.343690  48.395408  0.464912  0.473684"
      ]
     },
     "execution_count": 13,
     "metadata": {},
     "output_type": "execute_result"
    }
   ],
   "source": [
    "#looking at quantitative averages for those who survive and those who do not\n",
    "pd.pivot_table(training, index='Survived',values=quant_var_list)"
   ]
  },
  {
   "cell_type": "markdown",
   "id": "6681fdf2",
   "metadata": {
    "papermill": {
     "duration": 0.05062,
     "end_time": "2022-09-13T19:28:17.680449",
     "exception": false,
     "start_time": "2022-09-13T19:28:17.629829",
     "status": "completed"
    },
    "tags": []
   },
   "source": [
    "**Observations:**\n",
    "\n",
    "1. Those who survived skew slightly younger (by ~2.3 years).\n",
    "2. Those who survived paid, on average, more than double those who did not for their fare.\n",
    "3. Those who survived tend to have more children/parents on board, but the difference is small.\n",
    "4. Those who survived tend to have more spouses/siblings on board, but the difference is small."
   ]
  },
  {
   "cell_type": "code",
   "execution_count": 14,
   "id": "5809c730",
   "metadata": {
    "execution": {
     "iopub.execute_input": "2022-09-13T19:28:17.784438Z",
     "iopub.status.busy": "2022-09-13T19:28:17.783643Z",
     "iopub.status.idle": "2022-09-13T19:28:19.053843Z",
     "shell.execute_reply": "2022-09-13T19:28:19.052404Z"
    },
    "papermill": {
     "duration": 1.323945,
     "end_time": "2022-09-13T19:28:19.056455",
     "exception": false,
     "start_time": "2022-09-13T19:28:17.732510",
     "status": "completed"
    },
    "tags": []
   },
   "outputs": [
    {
     "data": {
      "image/png": "[encoded data removed]",
      "text/plain": [
       "<Figure size 432x288 with 1 Axes>"
      ]
     },
     "metadata": {
      "needs_background": "light"
     },
     "output_type": "display_data"
    },
    {
     "data": {
      "image/png": "[encoded data removed]",
      "text/plain": [
       "<Figure size 432x288 with 1 Axes>"
      ]
     },
     "metadata": {
      "needs_background": "light"
     },
     "output_type": "display_data"
    },
    {
     "data": {
      "image/png": "[encoded data removed]",
      "text/plain": [
       "<Figure size 432x288 with 1 Axes>"
      ]
     },
     "metadata": {
      "needs_background": "light"
     },
     "output_type": "display_data"
    },
    {
     "data": {
      "image/png": "[encoded data removed]",
      "text/plain": [
       "<Figure size 432x288 with 1 Axes>"
      ]
     },
     "metadata": {
      "needs_background": "light"
     },
     "output_type": "display_data"
    },
    {
     "data": {
      "image/png": "[encoded data removed]",
      "text/plain": [
       "<Figure size 432x288 with 1 Axes>"
      ]
     },
     "metadata": {
      "needs_background": "light"
     },
     "output_type": "display_data"
    }
   ],
   "source": [
    "#looking at the survival numbers by qualitative attribute graphically\n",
    "for i in ['Pclass','Sex','Embarked','Multiple_Cabins','Ticket_Letters']:\n",
    "    qual_stacked_bar(i)"
   ]
  },
  {
   "cell_type": "markdown",
   "id": "740b13dd",
   "metadata": {
    "papermill": {
     "duration": 0.053653,
     "end_time": "2022-09-13T19:28:19.164665",
     "exception": false,
     "start_time": "2022-09-13T19:28:19.111012",
     "status": "completed"
    },
    "tags": []
   },
   "source": [
    "**Observations:**\n",
    "\n",
    "1. More people survived than not.\n",
    "2. Most people were in third class, more than double the first and second class (in order of respective size).\n",
    "3. Almost twice as many males than females were on board.\n",
    "4. Vast majority of people embarked at Southampton, followed by Cherbourg and Queenstown (respectively)."
   ]
  },
  {
   "cell_type": "code",
   "execution_count": 15,
   "id": "55171d12",
   "metadata": {
    "execution": {
     "iopub.execute_input": "2022-09-13T19:28:19.276026Z",
     "iopub.status.busy": "2022-09-13T19:28:19.275096Z",
     "iopub.status.idle": "2022-09-13T19:28:19.384672Z",
     "shell.execute_reply": "2022-09-13T19:28:19.382683Z"
    },
    "papermill": {
     "duration": 0.169158,
     "end_time": "2022-09-13T19:28:19.388482",
     "exception": false,
     "start_time": "2022-09-13T19:28:19.219324",
     "status": "completed"
    },
    "tags": []
   },
   "outputs": [
    {
     "name": "stdout",
     "output_type": "stream",
     "text": [
      "Pclass          1         2         3\n",
      "Survived                             \n",
      "0         0.37037  0.527174  0.757637\n",
      "1         0.62963  0.472826  0.242363\n",
      "\n",
      "Sex         female      male\n",
      "Survived                    \n",
      "0         0.257962  0.811092\n",
      "1         0.742038  0.188908\n",
      "\n",
      "Embarked         C        Q         S\n",
      "Survived                             \n",
      "0         0.446429  0.61039  0.663043\n",
      "1         0.553571  0.38961  0.336957\n",
      "\n",
      "Cabin_Type         A         B        C         D     E         F    G    T  \\\n",
      "Survived                                                                      \n",
      "0           0.533333  0.255319  0.40678  0.242424  0.25  0.384615  0.5  1.0   \n",
      "1           0.466667  0.744681  0.59322  0.757576  0.75  0.615385  0.5  0.0   \n",
      "\n",
      "Cabin_Type         n  \n",
      "Survived              \n",
      "0           0.700146  \n",
      "1           0.299854  \n",
      "\n",
      "Multiple_Cabins       0.0       1.0\n",
      "Survived                           \n",
      "0                0.621684  0.416667\n",
      "1                0.378316  0.583333\n",
      "\n",
      "Ticket_Letters         0         1\n",
      "Survived                          \n",
      "0               0.615734  0.617391\n",
      "1               0.384266  0.382609\n",
      "\n",
      "Title      Master      Misc      Miss        Mr       Mrs\n",
      "Survived                                                 \n",
      "0           0.425  0.652174  0.297297  0.843327  0.206349\n",
      "1           0.575  0.347826  0.702703  0.156673  0.793651\n",
      "\n"
     ]
    }
   ],
   "source": [
    "#looking at survival rate by qualitative attribute\n",
    "for i in qual_var_list:\n",
    "    survived_pivot_table(i)"
   ]
  },
  {
   "cell_type": "markdown",
   "id": "06e11515",
   "metadata": {
    "papermill": {
     "duration": 0.054414,
     "end_time": "2022-09-13T19:28:19.497664",
     "exception": false,
     "start_time": "2022-09-13T19:28:19.443250",
     "status": "completed"
    },
    "tags": []
   },
   "source": [
    "**Observations:**\n",
    "\n",
    "1. Those in first class were much more likely to survive than second and third class, respectively.\n",
    "2. Females were much more likely to survive than males.\n",
    "3. Guests who boarded at Cherbourg had the highest survival rate, followed by Queenstown, then Southhampton. Maybe those who boarded at each different place were predominantly wealthier or of a certain gender.\n",
    "4. There are large differences in survival rate by cabin type, but because there are so few people who have their cabin type, this may not be very significant\n",
    "5. If a ticket has a letter or not seems to have no bearing on survival rate, will drop when modeling\n",
    "6. Survival rate varies wildly by title, but this may have to do with gender"
   ]
  },
  {
   "cell_type": "markdown",
   "id": "0a4d0f56",
   "metadata": {
    "execution": {
     "iopub.execute_input": "2022-08-22T23:20:52.998241Z",
     "iopub.status.busy": "2022-08-22T23:20:52.997809Z",
     "iopub.status.idle": "2022-08-22T23:20:53.005517Z",
     "shell.execute_reply": "2022-08-22T23:20:53.004431Z",
     "shell.execute_reply.started": "2022-08-22T23:20:52.998199Z"
    },
    "papermill": {
     "duration": 0.053229,
     "end_time": "2022-09-13T19:28:19.606484",
     "exception": false,
     "start_time": "2022-09-13T19:28:19.553255",
     "status": "completed"
    },
    "tags": []
   },
   "source": [
    "## 6. Data Preprocessing"
   ]
  },
  {
   "cell_type": "code",
   "execution_count": 16,
   "id": "9c6e2a5d",
   "metadata": {
    "execution": {
     "iopub.execute_input": "2022-09-13T19:28:19.716094Z",
     "iopub.status.busy": "2022-09-13T19:28:19.715824Z",
     "iopub.status.idle": "2022-09-13T19:28:19.759936Z",
     "shell.execute_reply": "2022-09-13T19:28:19.758769Z"
    },
    "papermill": {
     "duration": 0.102538,
     "end_time": "2022-09-13T19:28:19.762552",
     "exception": false,
     "start_time": "2022-09-13T19:28:19.660014",
     "status": "completed"
    },
    "tags": []
   },
   "outputs": [],
   "source": [
    "#re-doing feature engineering for all_data\n",
    "#Cabin_Type\n",
    "all_data['Cabin_Type'] = all_data['Cabin'].apply(lambda x: str(x)[0])\n",
    "#Multiple_Cabins\n",
    "all_data['Cabin'] = all_data['Cabin'].astype('string')\n",
    "all_data.loc[all_data['Cabin'].str.contains(' ', na=0), 'Multiple_Cabins'] = 1\n",
    "all_data.loc[all_data['Multiple_Cabins'] != 1, 'Multiple_Cabins'] = 0\n",
    "#Ticket_Letters\n",
    "all_data['Ticket_Letters']=all_data['Ticket'].apply(lambda x: 0 if x.isnumeric() else 1)\n",
    "#Title\n",
    "all_data['Title'] = all_data['Name'].apply(lambda x: x.split(',')[1].split('.')[0])\n",
    "all_data['Title'] = all_data['Title'].str.replace('Ms', 'Miss')\n",
    "all_data['Title'] = all_data['Title'].str.replace('Mlle', 'Miss')\n",
    "all_data['Title'] = all_data['Title'].str.replace('Mme', 'Mrs')\n",
    "for title in ['Lady', 'Rev', 'the Countess','Capt', 'Col', 'Dr', 'Don', 'Major', 'Sir', 'Jonkheer', 'Don']:\n",
    "    all_data['Title'] = all_data['Title'].str.replace(title, 'Misc')\n",
    "all_data['Title'] = all_data['Title'].str.replace('Misca', 'Misc')"
   ]
  },
  {
   "cell_type": "code",
   "execution_count": 17,
   "id": "8d8b5f63",
   "metadata": {
    "execution": {
     "iopub.execute_input": "2022-09-13T19:28:19.871865Z",
     "iopub.status.busy": "2022-09-13T19:28:19.871564Z",
     "iopub.status.idle": "2022-09-13T19:28:19.883642Z",
     "shell.execute_reply": "2022-09-13T19:28:19.882622Z"
    },
    "papermill": {
     "duration": 0.070313,
     "end_time": "2022-09-13T19:28:19.886450",
     "exception": false,
     "start_time": "2022-09-13T19:28:19.816137",
     "status": "completed"
    },
    "tags": []
   },
   "outputs": [],
   "source": [
    "#filling na values\n",
    "all_data['Age'] = all_data['Age'].fillna(training['Age'].median())\n",
    "all_data['Fare'] = all_data['Fare'].fillna(training['Fare'].median())\n",
    "all_data['Embarked'] = all_data['Embarked'].fillna(training['Embarked'].mode())"
   ]
  },
  {
   "cell_type": "code",
   "execution_count": 18,
   "id": "c70dd30c",
   "metadata": {
    "execution": {
     "iopub.execute_input": "2022-09-13T19:28:20.002861Z",
     "iopub.status.busy": "2022-09-13T19:28:20.002497Z",
     "iopub.status.idle": "2022-09-13T19:28:20.013046Z",
     "shell.execute_reply": "2022-09-13T19:28:20.011870Z"
    },
    "papermill": {
     "duration": 0.071079,
     "end_time": "2022-09-13T19:28:20.015963",
     "exception": false,
     "start_time": "2022-09-13T19:28:19.944884",
     "status": "completed"
    },
    "tags": []
   },
   "outputs": [],
   "source": [
    "#dropping columns without an 'embarked'\n",
    "all_data.dropna(subset=['Embarked'],inplace=True)"
   ]
  },
  {
   "cell_type": "code",
   "execution_count": 19,
   "id": "63490824",
   "metadata": {
    "execution": {
     "iopub.execute_input": "2022-09-13T19:28:20.126962Z",
     "iopub.status.busy": "2022-09-13T19:28:20.126631Z",
     "iopub.status.idle": "2022-09-13T19:28:20.137419Z",
     "shell.execute_reply": "2022-09-13T19:28:20.136141Z"
    },
    "papermill": {
     "duration": 0.069074,
     "end_time": "2022-09-13T19:28:20.139900",
     "exception": false,
     "start_time": "2022-09-13T19:28:20.070826",
     "status": "completed"
    },
    "tags": []
   },
   "outputs": [
    {
     "data": {
      "text/plain": [
       "PassengerId           0\n",
       "Survived            418\n",
       "Pclass                0\n",
       "Name                  0\n",
       "Sex                   0\n",
       "Age                   0\n",
       "SibSp                 0\n",
       "Parch                 0\n",
       "Ticket                0\n",
       "Fare                  0\n",
       "Cabin              1014\n",
       "Embarked              0\n",
       "train_test            0\n",
       "Cabin_Type            0\n",
       "Multiple_Cabins       0\n",
       "Ticket_Letters        0\n",
       "Title                 0\n",
       "dtype: int64"
      ]
     },
     "execution_count": 19,
     "metadata": {},
     "output_type": "execute_result"
    }
   ],
   "source": [
    "#no missing values (that matter)\n",
    "all_data.isna().sum()"
   ]
  },
  {
   "cell_type": "code",
   "execution_count": 20,
   "id": "19c5d5cd",
   "metadata": {
    "execution": {
     "iopub.execute_input": "2022-09-13T19:28:20.250406Z",
     "iopub.status.busy": "2022-09-13T19:28:20.250050Z",
     "iopub.status.idle": "2022-09-13T19:28:20.274293Z",
     "shell.execute_reply": "2022-09-13T19:28:20.273312Z"
    },
    "papermill": {
     "duration": 0.082548,
     "end_time": "2022-09-13T19:28:20.276978",
     "exception": false,
     "start_time": "2022-09-13T19:28:20.194430",
     "status": "completed"
    },
    "tags": []
   },
   "outputs": [
    {
     "name": "stdout",
     "output_type": "stream",
     "text": [
      "Cabin_Type         A         B        C         D     E         F    G    T  \\\n",
      "Survived                                                                      \n",
      "0.0         0.533333  0.266667  0.40678  0.242424  0.25  0.384615  0.5  1.0   \n",
      "1.0         0.466667  0.733333  0.59322  0.757576  0.75  0.615385  0.5  0.0   \n",
      "\n",
      "Cabin_Type         n  \n",
      "Survived              \n",
      "0.0         0.700146  \n",
      "1.0         0.299854  \n"
     ]
    }
   ],
   "source": [
    "print(pd.crosstab(all_data['Survived'],all_data['Cabin_Type'],normalize='columns'))"
   ]
  },
  {
   "cell_type": "code",
   "execution_count": 21,
   "id": "de293c49",
   "metadata": {
    "execution": {
     "iopub.execute_input": "2022-09-13T19:28:20.390540Z",
     "iopub.status.busy": "2022-09-13T19:28:20.389251Z",
     "iopub.status.idle": "2022-09-13T19:28:20.395350Z",
     "shell.execute_reply": "2022-09-13T19:28:20.394232Z"
    },
    "papermill": {
     "duration": 0.065787,
     "end_time": "2022-09-13T19:28:20.397670",
     "exception": false,
     "start_time": "2022-09-13T19:28:20.331883",
     "status": "completed"
    },
    "tags": []
   },
   "outputs": [],
   "source": [
    "#seperating useful features\n",
    "useful_features = ['PassengerId','Survived','Pclass','Sex','Age','SibSp','Parch','Fare','Embarked','Cabin_Type',\n",
    "                  'Multiple_Cabins','Title','train_test']"
   ]
  },
  {
   "cell_type": "code",
   "execution_count": 22,
   "id": "99b65afc",
   "metadata": {
    "execution": {
     "iopub.execute_input": "2022-09-13T19:28:20.512914Z",
     "iopub.status.busy": "2022-09-13T19:28:20.512538Z",
     "iopub.status.idle": "2022-09-13T19:28:20.526796Z",
     "shell.execute_reply": "2022-09-13T19:28:20.526078Z"
    },
    "papermill": {
     "duration": 0.076113,
     "end_time": "2022-09-13T19:28:20.529543",
     "exception": false,
     "start_time": "2022-09-13T19:28:20.453430",
     "status": "completed"
    },
    "tags": []
   },
   "outputs": [],
   "source": [
    "#getting dummies\n",
    "useful_data_with_dummies=pd.get_dummies(all_data[useful_features])"
   ]
  },
  {
   "cell_type": "code",
   "execution_count": 23,
   "id": "fec27cef",
   "metadata": {
    "execution": {
     "iopub.execute_input": "2022-09-13T19:28:20.642798Z",
     "iopub.status.busy": "2022-09-13T19:28:20.642142Z",
     "iopub.status.idle": "2022-09-13T19:28:20.659307Z",
     "shell.execute_reply": "2022-09-13T19:28:20.658087Z"
    },
    "papermill": {
     "duration": 0.076185,
     "end_time": "2022-09-13T19:28:20.661931",
     "exception": false,
     "start_time": "2022-09-13T19:28:20.585746",
     "status": "completed"
    },
    "tags": []
   },
   "outputs": [
    {
     "name": "stdout",
     "output_type": "stream",
     "text": [
      "<class 'pandas.core.frame.DataFrame'>\n",
      "Int64Index: 1307 entries, 0 to 417\n",
      "Data columns (total 28 columns):\n",
      " #   Column           Non-Null Count  Dtype  \n",
      "---  ------           --------------  -----  \n",
      " 0   PassengerId      1307 non-null   int64  \n",
      " 1   Survived         889 non-null    float64\n",
      " 2   Pclass           1307 non-null   int64  \n",
      " 3   Age              1307 non-null   float64\n",
      " 4   SibSp            1307 non-null   int64  \n",
      " 5   Parch            1307 non-null   int64  \n",
      " 6   Fare             1307 non-null   float64\n",
      " 7   Multiple_Cabins  1307 non-null   float64\n",
      " 8   train_test       1307 non-null   int64  \n",
      " 9   Sex_female       1307 non-null   uint8  \n",
      " 10  Sex_male         1307 non-null   uint8  \n",
      " 11  Embarked_C       1307 non-null   uint8  \n",
      " 12  Embarked_Q       1307 non-null   uint8  \n",
      " 13  Embarked_S       1307 non-null   uint8  \n",
      " 14  Cabin_Type_A     1307 non-null   uint8  \n",
      " 15  Cabin_Type_B     1307 non-null   uint8  \n",
      " 16  Cabin_Type_C     1307 non-null   uint8  \n",
      " 17  Cabin_Type_D     1307 non-null   uint8  \n",
      " 18  Cabin_Type_E     1307 non-null   uint8  \n",
      " 19  Cabin_Type_F     1307 non-null   uint8  \n",
      " 20  Cabin_Type_G     1307 non-null   uint8  \n",
      " 21  Cabin_Type_T     1307 non-null   uint8  \n",
      " 22  Cabin_Type_n     1307 non-null   uint8  \n",
      " 23  Title_ Master    1307 non-null   uint8  \n",
      " 24  Title_ Misc      1307 non-null   uint8  \n",
      " 25  Title_ Miss      1307 non-null   uint8  \n",
      " 26  Title_ Mr        1307 non-null   uint8  \n",
      " 27  Title_ Mrs       1307 non-null   uint8  \n",
      "dtypes: float64(4), int64(5), uint8(19)\n",
      "memory usage: 126.4 KB\n"
     ]
    }
   ],
   "source": [
    "#making sure the dummies look good\n",
    "useful_data_with_dummies.info()"
   ]
  },
  {
   "cell_type": "code",
   "execution_count": 24,
   "id": "6d5b93a9",
   "metadata": {
    "execution": {
     "iopub.execute_input": "2022-09-13T19:28:20.778543Z",
     "iopub.status.busy": "2022-09-13T19:28:20.777722Z",
     "iopub.status.idle": "2022-09-13T19:28:20.799063Z",
     "shell.execute_reply": "2022-09-13T19:28:20.798121Z"
    },
    "papermill": {
     "duration": 0.082963,
     "end_time": "2022-09-13T19:28:20.801425",
     "exception": false,
     "start_time": "2022-09-13T19:28:20.718462",
     "status": "completed"
    },
    "tags": []
   },
   "outputs": [
    {
     "name": "stderr",
     "output_type": "stream",
     "text": [
      "/opt/conda/lib/python3.7/site-packages/pandas/core/frame.py:4913: SettingWithCopyWarning: \n",
      "A value is trying to be set on a copy of a slice from a DataFrame\n",
      "\n",
      "See the caveats in the documentation: https://pandas.pydata.org/pandas-docs/stable/user_guide/indexing.html#returning-a-view-versus-a-copy\n",
      "  errors=errors,\n"
     ]
    }
   ],
   "source": [
    "#re-seperating into train/test\n",
    "#train\n",
    "X_train = useful_data_with_dummies[useful_data_with_dummies['train_test']==1]\n",
    "y_train = X_train['Survived']\n",
    "X_train.drop(columns=['Survived'],inplace=True)\n",
    "X_train.drop(columns=['train_test'],inplace=True)\n",
    "#test\n",
    "X_test = useful_data_with_dummies[useful_data_with_dummies['train_test']==0]\n",
    "X_test.drop(columns=['Survived'],inplace=True)\n",
    "X_test.drop(columns=['train_test'],inplace=True)"
   ]
  },
  {
   "cell_type": "markdown",
   "id": "069a64db",
   "metadata": {
    "papermill": {
     "duration": 0.063218,
     "end_time": "2022-09-13T19:28:20.919932",
     "exception": false,
     "start_time": "2022-09-13T19:28:20.856714",
     "status": "completed"
    },
    "tags": []
   },
   "source": [
    "## 7. Modeling"
   ]
  },
  {
   "cell_type": "code",
   "execution_count": 25,
   "id": "60155eaf",
   "metadata": {
    "execution": {
     "iopub.execute_input": "2022-09-13T19:28:21.061143Z",
     "iopub.status.busy": "2022-09-13T19:28:21.059984Z",
     "iopub.status.idle": "2022-09-13T19:28:21.067558Z",
     "shell.execute_reply": "2022-09-13T19:28:21.066526Z"
    },
    "papermill": {
     "duration": 0.07808,
     "end_time": "2022-09-13T19:28:21.069871",
     "exception": false,
     "start_time": "2022-09-13T19:28:20.991791",
     "status": "completed"
    },
    "tags": []
   },
   "outputs": [],
   "source": [
    "#Helper functions\n",
    "def initial_model(model):\n",
    "    for i in [X_train,X_train_scaled]:\n",
    "        mdl = model\n",
    "        cv = cross_val_score(mdl,i,y_train,cv=5)\n",
    "        print(cv)\n",
    "        print(cv.mean())\n",
    "        \n",
    "def tuned_model(param_grid,model):\n",
    "    mdl = GridSearchCV(model,param_grid = param_grid, n_jobs=3, verbose = 1)\n",
    "    mdl.fit(X_train_scaled,y_train)\n",
    "    print(mdl.best_score_)\n",
    "    best=mdl.best_estimator_\n",
    "    return best"
   ]
  },
  {
   "cell_type": "code",
   "execution_count": 26,
   "id": "f8755e94",
   "metadata": {
    "execution": {
     "iopub.execute_input": "2022-09-13T19:28:21.184080Z",
     "iopub.status.busy": "2022-09-13T19:28:21.183719Z",
     "iopub.status.idle": "2022-09-13T19:28:21.805198Z",
     "shell.execute_reply": "2022-09-13T19:28:21.803909Z"
    },
    "papermill": {
     "duration": 0.683361,
     "end_time": "2022-09-13T19:28:21.807832",
     "exception": false,
     "start_time": "2022-09-13T19:28:21.124471",
     "status": "completed"
    },
    "tags": []
   },
   "outputs": [],
   "source": [
    "#importing models\n",
    "from sklearn.preprocessing import StandardScaler\n",
    "from sklearn.model_selection import cross_val_score, GridSearchCV\n",
    "from sklearn.naive_bayes import GaussianNB\n",
    "from sklearn.linear_model import LogisticRegression\n",
    "from sklearn import tree\n",
    "from sklearn.neighbors import KNeighborsClassifier\n",
    "from sklearn.ensemble import RandomForestClassifier\n",
    "from sklearn.svm import SVC\n",
    "from xgboost import XGBClassifier\n",
    "from sklearn.neural_network import MLPClassifier"
   ]
  },
  {
   "cell_type": "code",
   "execution_count": 27,
   "id": "8bd5f2ab",
   "metadata": {
    "execution": {
     "iopub.execute_input": "2022-09-13T19:28:21.925080Z",
     "iopub.status.busy": "2022-09-13T19:28:21.924725Z",
     "iopub.status.idle": "2022-09-13T19:28:21.930336Z",
     "shell.execute_reply": "2022-09-13T19:28:21.929084Z"
    },
    "papermill": {
     "duration": 0.066576,
     "end_time": "2022-09-13T19:28:21.932778",
     "exception": false,
     "start_time": "2022-09-13T19:28:21.866202",
     "status": "completed"
    },
    "tags": []
   },
   "outputs": [],
   "source": [
    "#compiling list of models\n",
    "models = [GaussianNB(), KNeighborsClassifier(),\n",
    "          RandomForestClassifier(),SVC(),XGBClassifier()]"
   ]
  },
  {
   "cell_type": "code",
   "execution_count": 28,
   "id": "108d432a",
   "metadata": {
    "execution": {
     "iopub.execute_input": "2022-09-13T19:28:22.052504Z",
     "iopub.status.busy": "2022-09-13T19:28:22.051371Z",
     "iopub.status.idle": "2022-09-13T19:28:22.069039Z",
     "shell.execute_reply": "2022-09-13T19:28:22.067858Z"
    },
    "papermill": {
     "duration": 0.082033,
     "end_time": "2022-09-13T19:28:22.071977",
     "exception": false,
     "start_time": "2022-09-13T19:28:21.989944",
     "status": "completed"
    },
    "tags": []
   },
   "outputs": [],
   "source": [
    "#scaling\n",
    "scaler=StandardScaler()\n",
    "X_train_scaled = scaler.fit_transform(X_train)\n",
    "X_test_scaled = scaler.fit_transform(X_test)"
   ]
  },
  {
   "cell_type": "code",
   "execution_count": 29,
   "id": "93f95046",
   "metadata": {
    "execution": {
     "iopub.execute_input": "2022-09-13T19:28:22.185051Z",
     "iopub.status.busy": "2022-09-13T19:28:22.184673Z",
     "iopub.status.idle": "2022-09-13T19:28:29.732686Z",
     "shell.execute_reply": "2022-09-13T19:28:29.731299Z"
    },
    "papermill": {
     "duration": 7.609006,
     "end_time": "2022-09-13T19:28:29.736470",
     "exception": false,
     "start_time": "2022-09-13T19:28:22.127464",
     "status": "completed"
    },
    "tags": []
   },
   "outputs": [
    {
     "name": "stdout",
     "output_type": "stream",
     "text": [
      "GaussianNB() :\n",
      "[0.7752809  0.75280899 0.78089888 0.76404494 0.83050847]\n",
      "0.780708436488288\n",
      "[0.67977528 0.7247191  0.71910112 0.71348315 0.74576271]\n",
      "0.71656827270996\n",
      "KNeighborsClassifier() :\n",
      "[0.62359551 0.45505618 0.47752809 0.47752809 0.68361582]\n",
      "0.5434647368755158\n",
      "[0.8258427  0.79775281 0.80898876 0.76404494 0.85310734]\n",
      "0.8099473116231829\n",
      "RandomForestClassifier() :\n",
      "[0.76404494 0.79775281 0.86516854 0.79213483 0.84745763]\n",
      "0.8133117501428299\n",
      "[0.75842697 0.79775281 0.84831461 0.79213483 0.83615819]\n",
      "0.8065574811147084\n",
      "SVC() :\n",
      "[0.61797753 0.64044944 0.64606742 0.64044944 0.65536723]\n",
      "0.6400622103726274\n",
      "[0.81460674 0.80898876 0.81460674 0.78651685 0.85310734]\n",
      "0.8155652891512728\n",
      "XGBClassifier(base_score=None, booster=None, callbacks=None,\n",
      "              colsample_bylevel=None, colsample_bynode=None,\n",
      "              colsample_bytree=None, early_stopping_rounds=None,\n",
      "              enable_categorical=False, eval_metric=None, gamma=None,\n",
      "              gpu_id=None, grow_policy=None, importance_type=None,\n",
      "              interaction_constraints=None, learning_rate=None, max_bin=None,\n",
      "              max_cat_to_onehot=None, max_delta_step=None, max_depth=None,\n",
      "              max_leaves=None, min_child_weight=None, missing=nan,\n",
      "              monotone_constraints=None, n_estimators=100, n_jobs=None,\n",
      "              num_parallel_tree=None, predictor=None, random_state=None,\n",
      "              reg_alpha=None, reg_lambda=None, ...) :\n",
      "[0.64044944 0.78651685 0.83146067 0.82022472 0.81920904]\n",
      "0.7795721449882562\n",
      "[0.64044944 0.78651685 0.83146067 0.82022472 0.81920904]\n",
      "0.7795721449882562\n"
     ]
    }
   ],
   "source": [
    "#testing the models\n",
    "for i in models:\n",
    "    print(i, ':')\n",
    "    initial_model(i)"
   ]
  },
  {
   "cell_type": "code",
   "execution_count": 30,
   "id": "7a7e8e4b",
   "metadata": {
    "execution": {
     "iopub.execute_input": "2022-09-13T19:28:29.868193Z",
     "iopub.status.busy": "2022-09-13T19:28:29.867127Z",
     "iopub.status.idle": "2022-09-13T19:28:29.876682Z",
     "shell.execute_reply": "2022-09-13T19:28:29.875619Z"
    },
    "papermill": {
     "duration": 0.076691,
     "end_time": "2022-09-13T19:28:29.879248",
     "exception": false,
     "start_time": "2022-09-13T19:28:29.802557",
     "status": "completed"
    },
    "tags": []
   },
   "outputs": [],
   "source": [
    "#creating param grids\n",
    "svc_param_grid = {'C': [0.1, 1, 10, 100, 1000], \n",
    "              'gamma': [1, 0.1, 0.01, 0.001, 0.0001],\n",
    "              'kernel': ['rbf']}\n",
    "rf_param_grid = {\"max_depth\": [None],\n",
    "              \"max_features\": [1, 3, 10],\n",
    "              \"min_samples_split\": [2, 3, 10],\n",
    "              \"min_samples_leaf\": [1, 3, 10],\n",
    "              \"bootstrap\": [False],\n",
    "              \"n_estimators\" :[100,300],\n",
    "              \"criterion\": [\"gini\"]}\n",
    "mlp_param_grid = {'hidden_layer_sizes': [(10,30,10),(20,)],\n",
    "                'activation': ['tanh', 'relu'],\n",
    "                'solver': ['sgd', 'adam'],\n",
    "                'alpha': [0.0001, 0.05],\n",
    "                'learning_rate': ['constant','adaptive'],\n",
    "}"
   ]
  },
  {
   "cell_type": "code",
   "execution_count": 31,
   "id": "43221572",
   "metadata": {
    "execution": {
     "iopub.execute_input": "2022-09-13T19:28:30.009635Z",
     "iopub.status.busy": "2022-09-13T19:28:30.009018Z",
     "iopub.status.idle": "2022-09-13T19:28:30.013476Z",
     "shell.execute_reply": "2022-09-13T19:28:30.012543Z"
    },
    "papermill": {
     "duration": 0.07348,
     "end_time": "2022-09-13T19:28:30.015884",
     "exception": false,
     "start_time": "2022-09-13T19:28:29.942404",
     "status": "completed"
    },
    "tags": []
   },
   "outputs": [],
   "source": [
    "#svc\n",
    "#svc=tuned_model(svc_param_grid, SVC())"
   ]
  },
  {
   "cell_type": "code",
   "execution_count": 32,
   "id": "4d947440",
   "metadata": {
    "execution": {
     "iopub.execute_input": "2022-09-13T19:28:30.148749Z",
     "iopub.status.busy": "2022-09-13T19:28:30.148467Z",
     "iopub.status.idle": "2022-09-13T19:29:14.652683Z",
     "shell.execute_reply": "2022-09-13T19:29:14.651012Z"
    },
    "papermill": {
     "duration": 44.634836,
     "end_time": "2022-09-13T19:29:14.715473",
     "exception": false,
     "start_time": "2022-09-13T19:28:30.080637",
     "status": "completed"
    },
    "tags": []
   },
   "outputs": [
    {
     "name": "stdout",
     "output_type": "stream",
     "text": [
      "Fitting 5 folds for each of 54 candidates, totalling 270 fits\n",
      "0.8301910747159271\n"
     ]
    }
   ],
   "source": [
    "#rf\n",
    "rf=tuned_model(rf_param_grid,RandomForestClassifier())"
   ]
  },
  {
   "cell_type": "code",
   "execution_count": 33,
   "id": "cb7cf346",
   "metadata": {
    "execution": {
     "iopub.execute_input": "2022-09-13T19:29:14.838027Z",
     "iopub.status.busy": "2022-09-13T19:29:14.837626Z",
     "iopub.status.idle": "2022-09-13T19:29:14.841701Z",
     "shell.execute_reply": "2022-09-13T19:29:14.840941Z"
    },
    "papermill": {
     "duration": 0.06749,
     "end_time": "2022-09-13T19:29:14.843575",
     "exception": false,
     "start_time": "2022-09-13T19:29:14.776085",
     "status": "completed"
    },
    "tags": []
   },
   "outputs": [],
   "source": [
    "#MLP\n",
    "#mlp=tuned_model(mlp_param_grid,MLPClassifier(max_iter=60))"
   ]
  },
  {
   "cell_type": "markdown",
   "id": "937c1013",
   "metadata": {
    "papermill": {
     "duration": 0.059961,
     "end_time": "2022-09-13T19:29:14.966575",
     "exception": false,
     "start_time": "2022-09-13T19:29:14.906614",
     "status": "completed"
    },
    "tags": []
   },
   "source": [
    "## 8. Final Model Preparation"
   ]
  },
  {
   "cell_type": "code",
   "execution_count": 34,
   "id": "4928df1e",
   "metadata": {
    "execution": {
     "iopub.execute_input": "2022-09-13T19:29:15.091630Z",
     "iopub.status.busy": "2022-09-13T19:29:15.091309Z",
     "iopub.status.idle": "2022-09-13T19:29:15.115292Z",
     "shell.execute_reply": "2022-09-13T19:29:15.114188Z"
    },
    "papermill": {
     "duration": 0.087644,
     "end_time": "2022-09-13T19:29:15.118054",
     "exception": false,
     "start_time": "2022-09-13T19:29:15.030410",
     "status": "completed"
    },
    "tags": []
   },
   "outputs": [],
   "source": [
    "#the tuned rf model had the best cv results, so I am using it to predict the test data\n",
    "y_test = rf.predict(X_test_scaled)"
   ]
  },
  {
   "cell_type": "code",
   "execution_count": 35,
   "id": "e26ef05d",
   "metadata": {
    "execution": {
     "iopub.execute_input": "2022-09-13T19:29:15.241549Z",
     "iopub.status.busy": "2022-09-13T19:29:15.241247Z",
     "iopub.status.idle": "2022-09-13T19:29:15.244879Z",
     "shell.execute_reply": "2022-09-13T19:29:15.244244Z"
    },
    "papermill": {
     "duration": 0.067685,
     "end_time": "2022-09-13T19:29:15.247132",
     "exception": false,
     "start_time": "2022-09-13T19:29:15.179447",
     "status": "completed"
    },
    "tags": []
   },
   "outputs": [],
   "source": [
    "y_test = y_test.astype(int)"
   ]
  },
  {
   "cell_type": "code",
   "execution_count": 36,
   "id": "ef19d427",
   "metadata": {
    "execution": {
     "iopub.execute_input": "2022-09-13T19:29:15.370852Z",
     "iopub.status.busy": "2022-09-13T19:29:15.370354Z",
     "iopub.status.idle": "2022-09-13T19:29:15.376274Z",
     "shell.execute_reply": "2022-09-13T19:29:15.375167Z"
    },
    "papermill": {
     "duration": 0.071692,
     "end_time": "2022-09-13T19:29:15.378640",
     "exception": false,
     "start_time": "2022-09-13T19:29:15.306948",
     "status": "completed"
    },
    "tags": []
   },
   "outputs": [],
   "source": [
    "final_data = {'PassengerId': testing.PassengerId, 'Survived': y_test}\n",
    "submission = pd.DataFrame(data=final_data)"
   ]
  },
  {
   "cell_type": "code",
   "execution_count": 37,
   "id": "c2c8175f",
   "metadata": {
    "execution": {
     "iopub.execute_input": "2022-09-13T19:29:15.499492Z",
     "iopub.status.busy": "2022-09-13T19:29:15.498963Z",
     "iopub.status.idle": "2022-09-13T19:29:15.508167Z",
     "shell.execute_reply": "2022-09-13T19:29:15.507445Z"
    },
    "papermill": {
     "duration": 0.07234,
     "end_time": "2022-09-13T19:29:15.510632",
     "exception": false,
     "start_time": "2022-09-13T19:29:15.438292",
     "status": "completed"
    },
    "tags": []
   },
   "outputs": [],
   "source": [
    "submission.to_csv('submission_rf_tuned.csv', index=False)"
   ]
  },
  {
   "cell_type": "markdown",
   "id": "2c95cf0e",
   "metadata": {
    "papermill": {
     "duration": 0.060623,
     "end_time": "2022-09-13T19:29:15.633280",
     "exception": false,
     "start_time": "2022-09-13T19:29:15.572657",
     "status": "completed"
    },
    "tags": []
   },
   "source": [
    "**References:**\n",
    "\n",
    "Huge thank you to the creators of these notebooks which I used for guidance and inspiration\n",
    "\n",
    "https://www.kaggle.com/code/kenjee/titanic-project-example\n",
    "\n",
    "https://www.kaggle.com/code/odaymourad/detailed-and-typical-solution-ensemble-modeling"
   ]
  }
 ],
 "metadata": {
  "kernelspec": {
   "display_name": "Python 3",
   "language": "python",
   "name": "python3"
  },
  "language_info": {
   "codemirror_mode": {
    "name": "ipython",
    "version": 3
   },
   "file_extension": ".py",
   "mimetype": "text/x-python",
   "name": "python",
   "nbconvert_exporter": "python",
   "pygments_lexer": "ipython3",
   "version": "3.7.12"
  },
  "papermill": {
   "default_parameters": {},
   "duration": 76.815344,
   "end_time": "2022-09-13T19:29:18.315589",
   "environment_variables": {},
   "exception": null,
   "input_path": "__notebook__.ipynb",
   "output_path": "__notebook__.ipynb",
   "parameters": {},
   "start_time": "2022-09-13T19:28:01.500245",
   "version": "2.3.4"
  }
 },
 "nbformat": 4,
 "nbformat_minor": 5
}
